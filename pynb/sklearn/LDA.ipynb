{
 "cells": [
  {
   "cell_type": "markdown",
   "id": "b7548f7a-07e4-4d75-8024-988ba8631e7b",
   "metadata": {},
   "source": [
    "###  LDA\n",
    "### Linear discriminant analysis\n",
    "\n"
   ]
  },
  {
   "cell_type": "code",
   "execution_count": null,
   "id": "68b7ee36-34fd-4b0e-afa4-4366d92bde2a",
   "metadata": {},
   "outputs": [],
   "source": []
  },
  {
   "cell_type": "code",
   "execution_count": 3,
   "id": "9b1858f7-7959-492a-8523-65b75ed1212c",
   "metadata": {},
   "outputs": [],
   "source": [
    "from sklearn.datasets import load_iris\n",
    "import numpy as np\n",
    "import pandas as pd\n"
   ]
  },
  {
   "cell_type": "code",
   "execution_count": 4,
   "id": "b555b513-733a-490c-998a-9e9a71ebfaac",
   "metadata": {},
   "outputs": [
    {
     "name": "stdout",
     "output_type": "stream",
     "text": [
      ".. _iris_dataset:\n",
      "\n",
      "Iris plants dataset\n",
      "--------------------\n",
      "\n",
      "**Data Set Characteristics:**\n",
      "\n",
      "    :Number of Instances: 150 (50 in each of three classes)\n",
      "    :Number of Attributes: 4 numeric, predictive attributes and the class\n",
      "    :Attribute Information:\n",
      "        - sepal length in cm\n",
      "        - sepal width in cm\n",
      "        - petal length in cm\n",
      "        - petal width in cm\n",
      "        - class:\n",
      "                - Iris-Setosa\n",
      "                - Iris-Versicolour\n",
      "                - Iris-Virginica\n",
      "                \n",
      "    :Summary Statistics:\n",
      "\n",
      "    ============== ==== ==== ======= ===== ====================\n",
      "                    Min  Max   Mean    SD   Class Correlation\n",
      "    ============== ==== ==== ======= ===== ====================\n",
      "    sepal length:   4.3  7.9   5.84   0.83    0.7826\n",
      "    sepal width:    2.0  4.4   3.05   0.43   -0.4194\n",
      "    petal length:   1.0  6.9   3.76   1.76    0.9490  (high!)\n",
      "    petal width:    0.1  2.5   1.20   0.76    0.9565  (high!)\n",
      "    ============== ==== ==== ======= ===== ====================\n",
      "\n",
      "    :Missing Attribute Values: None\n",
      "    :Class Distribution: 33.3% for each of 3 classes.\n",
      "    :Creator: R.A. Fisher\n",
      "    :Donor: Michael Marshall (MARSHALL%PLU@io.arc.nasa.gov)\n",
      "    :Date: July, 1988\n",
      "\n",
      "The famous Iris database, first used by Sir R.A. Fisher. The dataset is taken\n",
      "from Fisher's paper. Note that it's the same as in R, but not as in the UCI\n",
      "Machine Learning Repository, which has two wrong data points.\n",
      "\n",
      "This is perhaps the best known database to be found in the\n",
      "pattern recognition literature.  Fisher's paper is a classic in the field and\n",
      "is referenced frequently to this day.  (See Duda & Hart, for example.)  The\n",
      "data set contains 3 classes of 50 instances each, where each class refers to a\n",
      "type of iris plant.  One class is linearly separable from the other 2; the\n",
      "latter are NOT linearly separable from each other.\n",
      "\n",
      ".. topic:: References\n",
      "\n",
      "   - Fisher, R.A. \"The use of multiple measurements in taxonomic problems\"\n",
      "     Annual Eugenics, 7, Part II, 179-188 (1936); also in \"Contributions to\n",
      "     Mathematical Statistics\" (John Wiley, NY, 1950).\n",
      "   - Duda, R.O., & Hart, P.E. (1973) Pattern Classification and Scene Analysis.\n",
      "     (Q327.D83) John Wiley & Sons.  ISBN 0-471-22361-1.  See page 218.\n",
      "   - Dasarathy, B.V. (1980) \"Nosing Around the Neighborhood: A New System\n",
      "     Structure and Classification Rule for Recognition in Partially Exposed\n",
      "     Environments\".  IEEE Transactions on Pattern Analysis and Machine\n",
      "     Intelligence, Vol. PAMI-2, No. 1, 67-71.\n",
      "   - Gates, G.W. (1972) \"The Reduced Nearest Neighbor Rule\".  IEEE Transactions\n",
      "     on Information Theory, May 1972, 431-433.\n",
      "   - See also: 1988 MLC Proceedings, 54-64.  Cheeseman et al\"s AUTOCLASS II\n",
      "     conceptual clustering system finds 3 classes in the data.\n",
      "   - Many, many more ...\n"
     ]
    }
   ],
   "source": [
    "iris = load_iris()\n",
    "print(iris.DESCR)"
   ]
  },
  {
   "cell_type": "code",
   "execution_count": 7,
   "id": "adcb21b9-454e-41fc-b0f8-c25dd95f1e76",
   "metadata": {},
   "outputs": [
    {
     "name": "stdout",
     "output_type": "stream",
     "text": [
      "X_train:  (120, 4) y_train: (120,)\n"
     ]
    }
   ],
   "source": [
    "from sklearn.model_selection import train_test_split\n",
    "\n",
    "X, y = iris.data, iris.target\n",
    "\n",
    "X_train, X_test, y_train, y_test = train_test_split(X, y, test_size=0.2, random_state=0)\n",
    "\n"
   ]
  },
  {
   "cell_type": "code",
   "execution_count": 8,
   "id": "fb12aec7-ae52-400b-b19a-aee7829d1cb4",
   "metadata": {},
   "outputs": [
    {
     "name": "stdout",
     "output_type": "stream",
     "text": [
      "X_train:  (120, 4) y_train: (120,)\n",
      "X_test:  (30, 4) y_test: (30,)\n"
     ]
    }
   ],
   "source": [
    "print(\"X_train: \", X_train.shape, \"y_train:\", y_train.shape)\n",
    "print(\"X_test: \", X_test.shape, \"y_test:\", y_test.shape)"
   ]
  },
  {
   "cell_type": "code",
   "execution_count": 17,
   "id": "07cd7002-58d3-423a-b76c-1c65ecab5d54",
   "metadata": {},
   "outputs": [],
   "source": [
    "from sklearn.discriminant_analysis import LinearDiscriminantAnalysis \n",
    "from sklearn.metrics import accuracy_score, confusion_matrix\n",
    "\n",
    "\n"
   ]
  },
  {
   "cell_type": "code",
   "execution_count": 25,
   "id": "4f6ebd82-c53d-4cd9-aa94-cace9b79aa3a",
   "metadata": {},
   "outputs": [
    {
     "data": {
      "text/plain": [
       "LinearDiscriminantAnalysis(n_components=2)"
      ]
     },
     "execution_count": 25,
     "metadata": {},
     "output_type": "execute_result"
    }
   ],
   "source": [
    "\n",
    "\n",
    "lda = LinearDiscriminantAnalysis(n_components=2)\n",
    "lda.fit(X_train, y_train)\n"
   ]
  },
  {
   "cell_type": "code",
   "execution_count": 26,
   "id": "95c56d98-a117-49b3-a44d-b3cc861cbbcc",
   "metadata": {},
   "outputs": [],
   "source": [
    "y_predict = lda.predict(X_test)"
   ]
  },
  {
   "cell_type": "code",
   "execution_count": 27,
   "id": "e42e1db2-6af3-488d-8b60-e4e09b49f2cc",
   "metadata": {},
   "outputs": [
    {
     "name": "stdout",
     "output_type": "stream",
     "text": [
      "accuracy: 1.0\n"
     ]
    }
   ],
   "source": [
    "## with one linear discriminant, the algorithm achieved an accuracy of 100%,\n",
    "print(\"accuracy:\", accuracy_score( y_test, y_predict) )\n"
   ]
  },
  {
   "cell_type": "code",
   "execution_count": 28,
   "id": "47fd3ef0-1db0-4d7b-8dcd-97c63c105a4f",
   "metadata": {},
   "outputs": [
    {
     "name": "stdout",
     "output_type": "stream",
     "text": [
      "Confusion Maxtrix: \n",
      " [[11  0  0]\n",
      " [ 0 13  0]\n",
      " [ 0  0  6]]\n"
     ]
    }
   ],
   "source": [
    "print(\"Confusion Maxtrix: \\n\" ,    confusion_matrix ( y_test, y_predict) ) "
   ]
  },
  {
   "cell_type": "code",
   "execution_count": 29,
   "id": "f93363b8-a716-4a06-a2e6-f37ddb1a9fdf",
   "metadata": {},
   "outputs": [
    {
     "data": {
      "text/plain": [
       "array([0])"
      ]
     },
     "execution_count": 29,
     "metadata": {},
     "output_type": "execute_result"
    }
   ],
   "source": [
    "# prediction on unseen data\n",
    "X_unseen = [[4.95, 3.1, 1.4, 0.3]] \n",
    "pred = lda.predict(X_unseen)\n",
    "pred"
   ]
  },
  {
   "cell_type": "code",
   "execution_count": 30,
   "id": "669333ca-f844-4608-8459-12a6135bda5f",
   "metadata": {},
   "outputs": [
    {
     "name": "stdout",
     "output_type": "stream",
     "text": [
      "['setosa']\n"
     ]
    }
   ],
   "source": [
    "target_name_array = np.array(iris.target_names)\n",
    "print( target_name_array[pred])"
   ]
  },
  {
   "cell_type": "markdown",
   "id": "1645d1b3-5135-4b15-bad9-885d1117c6e7",
   "metadata": {},
   "source": [
    "## LDA for dimension reduction"
   ]
  },
  {
   "cell_type": "code",
   "execution_count": 34,
   "id": "e8d98edc-3166-495d-89d7-fff6d32d37f2",
   "metadata": {},
   "outputs": [],
   "source": [
    "import matplotlib.pyplot as plt\n",
    "\n"
   ]
  },
  {
   "cell_type": "code",
   "execution_count": 35,
   "id": "79dc91e7-e5ec-4fed-8c8a-94c7ffc36b72",
   "metadata": {},
   "outputs": [
    {
     "name": "stdout",
     "output_type": "stream",
     "text": [
      "(150, 4) (150, 2)\n"
     ]
    }
   ],
   "source": [
    "\n",
    "transform = lda.transform(X)\n",
    "print(X.shape, transform.shape)"
   ]
  },
  {
   "cell_type": "code",
   "execution_count": null,
   "id": "133416db-9c6d-4b36-b872-26ff153fcb9b",
   "metadata": {},
   "outputs": [],
   "source": []
  },
  {
   "cell_type": "code",
   "execution_count": 36,
   "id": "17a8ae77-d804-4b15-be87-fb8221dc3562",
   "metadata": {},
   "outputs": [
    {
     "data": {
      "text/plain": [
       "<matplotlib.collections.PathCollection at 0x24d4e55cd90>"
      ]
     },
     "execution_count": 36,
     "metadata": {},
     "output_type": "execute_result"
    },
    {
     "data": {
      "image/png": "[encoded data removed]",
      "text/plain": [
       "<Figure size 432x288 with 1 Axes>"
      ]
     },
     "metadata": {
      "needs_background": "light"
     },
     "output_type": "display_data"
    }
   ],
   "source": [
    "plt.scatter(transform[:, 0], transform[:, 1])"
   ]
  },
  {
   "cell_type": "code",
   "execution_count": null,
   "id": "05ab94a8-60c4-4e42-91b7-3567058d1016",
   "metadata": {},
   "outputs": [],
   "source": []
  },
  {
   "cell_type": "code",
   "execution_count": 38,
   "id": "352698c7-f0f9-45d4-b5f5-6e7023ec21b0",
   "metadata": {},
   "outputs": [
    {
     "data": {
      "image/png": "[encoded data removed]",
      "text/plain": [
       "<Figure size 432x288 with 1 Axes>"
      ]
     },
     "metadata": {
      "needs_background": "light"
     },
     "output_type": "display_data"
    }
   ],
   "source": [
    "colors = ['red', 'black', 'orange']\n",
    "\n",
    "plt.figure()\n",
    "for i in [0, 1, 2]:\n",
    "    plt.scatter(transform[y == i, 0]\n",
    "               ,transform[y == i, 1]\n",
    "               ,alpha=.7\n",
    "               ,c=colors[i]\n",
    "               ,label=iris.target_names[i]\n",
    "               )\n",
    "plt.legend()\n",
    "plt.title('LDA of IRIS dataset')\n",
    "plt.show()"
   ]
  },
  {
   "cell_type": "code",
   "execution_count": 39,
   "id": "6460f3c2-f92d-4b4d-94c8-11a4efe8827b",
   "metadata": {},
   "outputs": [],
   "source": [
    "##  test on Transformed data ( dimention =2 )"
   ]
  },
  {
   "cell_type": "code",
   "execution_count": 40,
   "id": "1bc3920d-ac0f-4a33-89e7-3fdbe0f7b7e8",
   "metadata": {},
   "outputs": [],
   "source": [
    "X_train, X_test, y_train, y_test = train_test_split(transform, y, test_size=0.2, random_state=0)"
   ]
  },
  {
   "cell_type": "code",
   "execution_count": 41,
   "id": "1b908871-5d6d-455a-94a3-b37a63fd3cd1",
   "metadata": {},
   "outputs": [
    {
     "data": {
      "text/plain": [
       "LinearDiscriminantAnalysis(n_components=2)"
      ]
     },
     "execution_count": 41,
     "metadata": {},
     "output_type": "execute_result"
    }
   ],
   "source": [
    "lda.fit(X_train, y_train)"
   ]
  },
  {
   "cell_type": "code",
   "execution_count": 42,
   "id": "a9632ce2-d899-4d4a-94a7-ce09aa6dff1c",
   "metadata": {},
   "outputs": [],
   "source": [
    "y_predict = lda.predict(X_test)"
   ]
  },
  {
   "cell_type": "code",
   "execution_count": 43,
   "id": "4c23ffca-fc01-47fd-9d67-73747f6fbcfc",
   "metadata": {},
   "outputs": [
    {
     "name": "stdout",
     "output_type": "stream",
     "text": [
      "accuracy: 1.0\n"
     ]
    }
   ],
   "source": [
    "print(\"accuracy:\", accuracy_score( y_test, y_predict) )"
   ]
  },
  {
   "cell_type": "code",
   "execution_count": 44,
   "id": "04cda109-7f51-4331-8702-1ddd3adccdd3",
   "metadata": {},
   "outputs": [
    {
     "name": "stdout",
     "output_type": "stream",
     "text": [
      "Confusion Maxtrix: \n",
      " [[11  0  0]\n",
      " [ 0 13  0]\n",
      " [ 0  0  6]]\n"
     ]
    }
   ],
   "source": [
    "print(\"Confusion Maxtrix: \\n\" ,    confusion_matrix ( y_test, y_predict) ) "
   ]
  },
  {
   "cell_type": "markdown",
   "id": "061c1499-39aa-4cbc-82d4-3a2b2d98a56e",
   "metadata": {},
   "source": [
    "#  PCA vs LDA: What's the Difference?: What to Choose for Dimensionality Reduction?\n"
   ]
  },
  {
   "cell_type": "code",
   "execution_count": null,
   "id": "b86f7bf2-f146-4815-b947-e7b8687cf4ee",
   "metadata": {},
   "outputs": [],
   "source": [
    "## In case of uniformly distributed data, LDA almost always performs better than PCA. \n",
    "## However if the data is highly skewed (irregularly distributed) then it is advised to use PCA since LDA can be biased towards the majority class."
   ]
  },
  {
   "cell_type": "code",
   "execution_count": 45,
   "id": "34cd38d0-822b-4983-9edf-3fe91c50556d",
   "metadata": {},
   "outputs": [],
   "source": [
    "\n",
    "## Both PCA and LDA are linear transformation techniques. \n",
    "## PCA is an unsupervised while LDA is a supervised dimensionality reduction technique."
   ]
  },
  {
   "cell_type": "code",
   "execution_count": 46,
   "id": "dabb2193-4c01-40ac-a537-7f74593a0685",
   "metadata": {},
   "outputs": [],
   "source": [
    "##  PCA tries to find the directions of the maximum variance in the dataset\n",
    "## LDA tries to find a seperation boundary around each cluster of a class."
   ]
  },
  {
   "cell_type": "code",
   "execution_count": null,
   "id": "e0fbe8f6-7cd2-45b3-bb39-b0919a220936",
   "metadata": {},
   "outputs": [],
   "source": []
  }
 ],
 "metadata": {
  "kernelspec": {
   "display_name": "Python 3 (ipykernel)",
   "language": "python",
   "name": "python3"
  },
  "language_info": {
   "codemirror_mode": {
    "name": "ipython",
    "version": 3
   },
   "file_extension": ".py",
   "mimetype": "text/x-python",
   "name": "python",
   "nbconvert_exporter": "python",
   "pygments_lexer": "ipython3",
   "version": "3.9.12"
  }
 },
 "nbformat": 4,
 "nbformat_minor": 5
}
