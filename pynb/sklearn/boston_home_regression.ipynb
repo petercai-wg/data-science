{
 "cells": [
  {
   "cell_type": "markdown",
   "id": "b58a4efe-7a5b-4180-8dda-ecfc5216f709",
   "metadata": {},
   "source": [
    "##  Regression based on Boston house price data"
   ]
  },
  {
   "cell_type": "code",
   "execution_count": null,
   "id": "f8e7bc34-0d3f-4006-82ef-ea7dce319957",
   "metadata": {},
   "outputs": [],
   "source": [
    "# from sklearn.datasets import load_boston\n",
    "\n",
    "# boston = load_boston() \n",
    "\n",
    "# import pandas as pd\n",
    "# import numpy as np\n",
    "\n",
    "# data_url = \"http://lib.stat.cmu.edu/datasets/boston\"\n",
    "# raw_df = pd.read_csv(data_url, sep=\"\\s+\", skiprows=22, header=None)\n",
    "# data = np.hstack([raw_df.values[::2, :], raw_df.values[1::2, :2]])\n",
    "# target = raw_df.values[1::2, 2]"
   ]
  },
  {
   "cell_type": "code",
   "execution_count": 2,
   "id": "d1bc9a02-a9c9-413a-9111-18bdc7ee26ac",
   "metadata": {},
   "outputs": [],
   "source": [
    "# from sklearn.datasets import fetch_california_housing\n",
    "# housing = fetch_california_housing()\n"
   ]
  },
  {
   "cell_type": "code",
   "execution_count": null,
   "id": "5654ee98-0026-42e1-8409-396c992b75fd",
   "metadata": {},
   "outputs": [],
   "source": [
    "# print(housing)"
   ]
  },
  {
   "cell_type": "code",
   "execution_count": 10,
   "id": "293da218-9e83-474d-9644-23f4fb236118",
   "metadata": {},
   "outputs": [],
   "source": [
    "# import pandas as pd\n",
    "# import numpy as np\n",
    "\n",
    "# data_url = \"http://lib.stat.cmu.edu/datasets/boston\"\n",
    "# raw_df = pd.read_csv(data_url, sep=\"\\s+\", skiprows=22, header=None)\n"
   ]
  },
  {
   "cell_type": "code",
   "execution_count": null,
   "id": "efe2d521-2dd7-4f5b-8d34-d5299aea22f5",
   "metadata": {},
   "outputs": [],
   "source": [
    "# from sklearn.datasets import load_boston\n",
    "\n",
    "# boston = load_boston() \n",
    "\n",
    "# import json\n",
    "# from numpyencoder import NumpyEncoder\n",
    "# # create json object from dictionary\n",
    "# json = json.dumps(boston,cls=NumpyEncoder, sort_keys=True, indent=4)\n",
    "\n",
    "# # open file for writing, \"w\" \n",
    "# f = open(\"boston_house.json\",\"w\")\n",
    "\n",
    "# # write json object to file\n",
    "# f.write(json)\n",
    "\n",
    "# # close file\n",
    "# f.close()\n"
   ]
  },
  {
   "cell_type": "code",
   "execution_count": null,
   "id": "22f72ca8-2713-44dc-a316-4ce84ca65ce6",
   "metadata": {},
   "outputs": [],
   "source": [
    "##  Due to depreciate, save boston housing data in file, \n",
    "## later can load from file intead of from datasets or url"
   ]
  },
  {
   "cell_type": "markdown",
   "id": "75da4c8d-6397-4cc8-b84b-a0c638ef4ddd",
   "metadata": {},
   "source": [
    "### start here"
   ]
  },
  {
   "cell_type": "code",
   "execution_count": null,
   "id": "d8aa2ea8-8fb0-4729-bec1-4b119511b3cf",
   "metadata": {},
   "outputs": [],
   "source": []
  },
  {
   "cell_type": "code",
   "execution_count": 1,
   "id": "e19afddb-da71-4cc0-94c4-c4e9bec90e33",
   "metadata": {},
   "outputs": [
    {
     "name": "stdout",
     "output_type": "stream",
     "text": [
      "<class 'dict'>\n"
     ]
    }
   ],
   "source": [
    "import json\n",
    "with open(\"boston_house.json\", 'r') as openfile:\n",
    "    boston = json.load(openfile)\n",
    "    \n",
    "print(type(boston))"
   ]
  },
  {
   "cell_type": "code",
   "execution_count": null,
   "id": "5c897502-3529-4152-8412-40fa91f93b03",
   "metadata": {},
   "outputs": [],
   "source": [
    "# print(boston)"
   ]
  },
  {
   "cell_type": "code",
   "execution_count": 15,
   "id": "fd0bc66b-70f9-4ebd-8cce-afd111c9edcf",
   "metadata": {},
   "outputs": [
    {
     "data": {
      "text/html": [
       "<div>\n",
       "<style scoped>\n",
       "    .dataframe tbody tr th:only-of-type {\n",
       "        vertical-align: middle;\n",
       "    }\n",
       "\n",
       "    .dataframe tbody tr th {\n",
       "        vertical-align: top;\n",
       "    }\n",
       "\n",
       "    .dataframe thead th {\n",
       "        text-align: right;\n",
       "    }\n",
       "</style>\n",
       "<table border=\"1\" class=\"dataframe\">\n",
       "  <thead>\n",
       "    <tr style=\"text-align: right;\">\n",
       "      <th></th>\n",
       "      <th>CRIM</th>\n",
       "      <th>ZN</th>\n",
       "      <th>INDUS</th>\n",
       "      <th>CHAS</th>\n",
       "      <th>NOX</th>\n",
       "      <th>RM</th>\n",
       "      <th>AGE</th>\n",
       "      <th>DIS</th>\n",
       "      <th>RAD</th>\n",
       "      <th>TAX</th>\n",
       "      <th>PTRATIO</th>\n",
       "      <th>B</th>\n",
       "      <th>LSTAT</th>\n",
       "      <th>PRICE</th>\n",
       "    </tr>\n",
       "  </thead>\n",
       "  <tbody>\n",
       "    <tr>\n",
       "      <th>0</th>\n",
       "      <td>0.00632</td>\n",
       "      <td>18.0</td>\n",
       "      <td>2.31</td>\n",
       "      <td>0.0</td>\n",
       "      <td>0.538</td>\n",
       "      <td>6.575</td>\n",
       "      <td>65.2</td>\n",
       "      <td>4.0900</td>\n",
       "      <td>1.0</td>\n",
       "      <td>296.0</td>\n",
       "      <td>15.3</td>\n",
       "      <td>396.90</td>\n",
       "      <td>4.98</td>\n",
       "      <td>24.0</td>\n",
       "    </tr>\n",
       "    <tr>\n",
       "      <th>1</th>\n",
       "      <td>0.02731</td>\n",
       "      <td>0.0</td>\n",
       "      <td>7.07</td>\n",
       "      <td>0.0</td>\n",
       "      <td>0.469</td>\n",
       "      <td>6.421</td>\n",
       "      <td>78.9</td>\n",
       "      <td>4.9671</td>\n",
       "      <td>2.0</td>\n",
       "      <td>242.0</td>\n",
       "      <td>17.8</td>\n",
       "      <td>396.90</td>\n",
       "      <td>9.14</td>\n",
       "      <td>21.6</td>\n",
       "    </tr>\n",
       "    <tr>\n",
       "      <th>2</th>\n",
       "      <td>0.02729</td>\n",
       "      <td>0.0</td>\n",
       "      <td>7.07</td>\n",
       "      <td>0.0</td>\n",
       "      <td>0.469</td>\n",
       "      <td>7.185</td>\n",
       "      <td>61.1</td>\n",
       "      <td>4.9671</td>\n",
       "      <td>2.0</td>\n",
       "      <td>242.0</td>\n",
       "      <td>17.8</td>\n",
       "      <td>392.83</td>\n",
       "      <td>4.03</td>\n",
       "      <td>34.7</td>\n",
       "    </tr>\n",
       "    <tr>\n",
       "      <th>3</th>\n",
       "      <td>0.03237</td>\n",
       "      <td>0.0</td>\n",
       "      <td>2.18</td>\n",
       "      <td>0.0</td>\n",
       "      <td>0.458</td>\n",
       "      <td>6.998</td>\n",
       "      <td>45.8</td>\n",
       "      <td>6.0622</td>\n",
       "      <td>3.0</td>\n",
       "      <td>222.0</td>\n",
       "      <td>18.7</td>\n",
       "      <td>394.63</td>\n",
       "      <td>2.94</td>\n",
       "      <td>33.4</td>\n",
       "    </tr>\n",
       "    <tr>\n",
       "      <th>4</th>\n",
       "      <td>0.06905</td>\n",
       "      <td>0.0</td>\n",
       "      <td>2.18</td>\n",
       "      <td>0.0</td>\n",
       "      <td>0.458</td>\n",
       "      <td>7.147</td>\n",
       "      <td>54.2</td>\n",
       "      <td>6.0622</td>\n",
       "      <td>3.0</td>\n",
       "      <td>222.0</td>\n",
       "      <td>18.7</td>\n",
       "      <td>396.90</td>\n",
       "      <td>5.33</td>\n",
       "      <td>36.2</td>\n",
       "    </tr>\n",
       "  </tbody>\n",
       "</table>\n",
       "</div>"
      ],
      "text/plain": [
       "      CRIM    ZN  INDUS  CHAS    NOX     RM   AGE     DIS  RAD    TAX  \\\n",
       "0  0.00632  18.0   2.31   0.0  0.538  6.575  65.2  4.0900  1.0  296.0   \n",
       "1  0.02731   0.0   7.07   0.0  0.469  6.421  78.9  4.9671  2.0  242.0   \n",
       "2  0.02729   0.0   7.07   0.0  0.469  7.185  61.1  4.9671  2.0  242.0   \n",
       "3  0.03237   0.0   2.18   0.0  0.458  6.998  45.8  6.0622  3.0  222.0   \n",
       "4  0.06905   0.0   2.18   0.0  0.458  7.147  54.2  6.0622  3.0  222.0   \n",
       "\n",
       "   PTRATIO       B  LSTAT  PRICE  \n",
       "0     15.3  396.90   4.98   24.0  \n",
       "1     17.8  396.90   9.14   21.6  \n",
       "2     17.8  392.83   4.03   34.7  \n",
       "3     18.7  394.63   2.94   33.4  \n",
       "4     18.7  396.90   5.33   36.2  "
      ]
     },
     "execution_count": 15,
     "metadata": {},
     "output_type": "execute_result"
    }
   ],
   "source": [
    "import pandas as pd\n",
    "df = pd.DataFrame(boston['data'], columns=boston['feature_names']) \n",
    "df['PRICE'] = boston['target']\n",
    "df.head()"
   ]
  },
  {
   "cell_type": "code",
   "execution_count": 12,
   "id": "cf01417d-e367-44a0-8649-d96cba8a3b72",
   "metadata": {},
   "outputs": [],
   "source": [
    "###\n",
    "#### Attribute Information (in order):\n",
    "#### - CRIM     per capita crime rate by town\n",
    "#### - ZN       proportion of residential land zoned for lots over 25,000 sq.ft.\n",
    "#### - INDUS    proportion of non-retail business acres per town\n",
    "#### - CHAS     Charles River dummy variable (= 1 if tract bounds river; 0 otherwise)\n",
    "#### - NOX      nitric oxides concentration (parts per 10 million)\n",
    "#### - RM       average number of rooms per dwelling\n",
    "#### - AGE      proportion of owner-occupied units built prior to 1940\n",
    "#### - DIS      weighted distances to five Boston employment centres\n",
    "#### - RAD      index of accessibility to radial highways\n",
    "#### - TAX      full-value property-tax rate per $10,000\n",
    "#### - PTRATIO  pupil-teacher ratio by town\n",
    "#### - B        1000(Bk - 0.63)^2 where Bk is the proportion of blacks by town\n",
    "#### - LSTAT    % lower status of the population"
   ]
  },
  {
   "cell_type": "code",
   "execution_count": 18,
   "id": "d3b0b881-3dd9-4c33-924f-14ddb00a6d05",
   "metadata": {},
   "outputs": [
    {
     "name": "stdout",
     "output_type": "stream",
     "text": [
      "(506, 14)\n",
      "Index(['CRIM', 'ZN', 'INDUS', 'CHAS', 'NOX', 'RM', 'AGE', 'DIS', 'RAD', 'TAX',\n",
      "       'PTRATIO', 'B', 'LSTAT', 'PRICE'],\n",
      "      dtype='object')\n"
     ]
    }
   ],
   "source": [
    "print(df.shape)\n",
    "print(df.columns)"
   ]
  },
  {
   "cell_type": "code",
   "execution_count": 19,
   "id": "9f00499a-b10b-48a6-9580-d3f77418520d",
   "metadata": {},
   "outputs": [],
   "source": [
    "import matplotlib.pyplot as plt\n",
    "%matplotlib inline \n"
   ]
  },
  {
   "cell_type": "code",
   "execution_count": 33,
   "id": "a1df0a70-84f9-4e5b-9d80-1497d247dd76",
   "metadata": {},
   "outputs": [
    {
     "data": {
      "text/plain": [
       "(array([ 21.,  55.,  82., 154.,  84.,  41.,  30.,   8.,  10.,  21.]),\n",
       " array([ 5. ,  9.5, 14. , 18.5, 23. , 27.5, 32. , 36.5, 41. , 45.5, 50. ]),\n",
       " <BarContainer object of 10 artists>)"
      ]
     },
     "execution_count": 33,
     "metadata": {},
     "output_type": "execute_result"
    },
    {
     "data": {
      "image/png": "[encoded data removed]",
      "text/plain": [
       "<Figure size 432x288 with 1 Axes>"
      ]
     },
     "metadata": {
      "needs_background": "light"
     },
     "output_type": "display_data"
    }
   ],
   "source": [
    "plt.hist(boston['target'])"
   ]
  },
  {
   "cell_type": "code",
   "execution_count": 34,
   "id": "43dbbd85-6f40-4c0b-a7f8-d1c52c9e372a",
   "metadata": {},
   "outputs": [
    {
     "data": {
      "text/plain": [
       "count    506.000000\n",
       "mean      22.532806\n",
       "std        9.197104\n",
       "min        5.000000\n",
       "25%       17.025000\n",
       "50%       21.200000\n",
       "75%       25.000000\n",
       "max       50.000000\n",
       "Name: PRICE, dtype: float64"
      ]
     },
     "execution_count": 34,
     "metadata": {},
     "output_type": "execute_result"
    }
   ],
   "source": [
    "df.PRICE.describe()"
   ]
  },
  {
   "cell_type": "code",
   "execution_count": null,
   "id": "35655ed3-0c85-4e14-ab5c-17e75a30adbb",
   "metadata": {},
   "outputs": [],
   "source": []
  },
  {
   "cell_type": "code",
   "execution_count": 28,
   "id": "5de03b60-af5f-452c-bbb9-64efebbb55d1",
   "metadata": {},
   "outputs": [
    {
     "data": {
      "text/plain": [
       "CHAS\n",
       "0.0    471\n",
       "1.0     35\n",
       "Name: PRICE, dtype: int64"
      ]
     },
     "execution_count": 28,
     "metadata": {},
     "output_type": "execute_result"
    }
   ],
   "source": [
    "df.groupby( ['CHAS'] )['PRICE'].count()"
   ]
  },
  {
   "cell_type": "code",
   "execution_count": 29,
   "id": "00eaf5b1-5dc1-461b-913e-0bade5b4088f",
   "metadata": {},
   "outputs": [
    {
     "data": {
      "text/plain": [
       "18.455533596837967"
      ]
     },
     "execution_count": 29,
     "metadata": {},
     "output_type": "execute_result"
    }
   ],
   "source": [
    "df['PTRATIO'].mean()"
   ]
  },
  {
   "cell_type": "markdown",
   "id": "00296d8b-d82e-4e4a-9979-7f6fc302aa79",
   "metadata": {},
   "source": [
    "###  Make some pairwise scatterplots of the predictors (columns) in this data set. Describe your findings"
   ]
  },
  {
   "cell_type": "code",
   "execution_count": 35,
   "id": "c1410997-b659-478a-b30d-978d4e7106c9",
   "metadata": {},
   "outputs": [
    {
     "data": {
      "text/plain": [
       "<AxesSubplot:>"
      ]
     },
     "execution_count": 35,
     "metadata": {},
     "output_type": "execute_result"
    },
    {
     "data": {
      "image/png": "[encoded data removed]",
      "text/plain": [
       "<Figure size 720x432 with 1 Axes>"
      ]
     },
     "metadata": {
      "needs_background": "light"
     },
     "output_type": "display_data"
    }
   ],
   "source": [
    "\n",
    "import seaborn as sns\n",
    "\n",
    "f, ax = plt.subplots(figsize=(10, 6))\n",
    "sns.boxplot(data=df)"
   ]
  },
  {
   "cell_type": "code",
   "execution_count": 37,
   "id": "c94ff561-7f83-4ca4-8755-9bd57eb88427",
   "metadata": {},
   "outputs": [
    {
     "data": {
      "text/plain": [
       "<seaborn.axisgrid.PairGrid at 0x207ccc83d00>"
      ]
     },
     "execution_count": 37,
     "metadata": {},
     "output_type": "execute_result"
    },
    {
     "data": {
      "image/png": "[encoded data removed]",
      "text/plain": [
       "<Figure size 2340x180 with 13 Axes>"
      ]
     },
     "metadata": {
      "needs_background": "light"
     },
     "output_type": "display_data"
    }
   ],
   "source": [
    "sns.pairplot(df, x_vars=boston['feature_names'], y_vars=['PRICE'], kind='reg')"
   ]
  },
  {
   "cell_type": "code",
   "execution_count": null,
   "id": "f0e8d358-a370-4235-9e51-be5a35135dc0",
   "metadata": {},
   "outputs": [],
   "source": []
  },
  {
   "cell_type": "markdown",
   "id": "b266f366-4c4a-423e-a584-5d6215bf0bab",
   "metadata": {},
   "source": [
    "## Training & evaluation, Try different Regression models"
   ]
  },
  {
   "cell_type": "code",
   "execution_count": 38,
   "id": "3da3f4d8-a67f-4906-9c27-57b4c50a846e",
   "metadata": {},
   "outputs": [],
   "source": [
    "# Split the dataset (train_test_split)\n",
    "\n",
    "from sklearn.model_selection import train_test_split\n",
    "\n",
    "X_train, X_test, y_train, y_test = train_test_split(boston['data'], boston['target'], test_size=0.2, random_state=1)\n"
   ]
  },
  {
   "cell_type": "code",
   "execution_count": null,
   "id": "1698538f-f507-4e3c-ad7e-244cb8c4e048",
   "metadata": {},
   "outputs": [],
   "source": [
    "## Try different Regression models\n"
   ]
  },
  {
   "cell_type": "code",
   "execution_count": 39,
   "id": "b6c0791a-bdc6-408e-847d-1a46ecd0d047",
   "metadata": {},
   "outputs": [],
   "source": [
    "import numpy as np\n",
    "from sklearn.metrics import r2_score, mean_squared_error\n",
    "from sklearn.linear_model import LinearRegression\n",
    "from sklearn.neighbors import KNeighborsRegressor\n",
    "from sklearn.tree import DecisionTreeRegressor\n",
    "from sklearn.ensemble import RandomForestRegressor\n",
    "\n",
    "import collections, operator\n",
    "RunResult = collections.namedtuple('RunResult', 'model error pred r2')\n",
    "\n",
    "# try some well-known regression algorithms\n",
    "model_list = [\n",
    "             LinearRegression(), \n",
    "             KNeighborsRegressor(),\n",
    "             DecisionTreeRegressor(), \n",
    "             RandomForestRegressor(n_estimators=100),\n",
    "            ]"
   ]
  },
  {
   "cell_type": "code",
   "execution_count": 40,
   "id": "4acb3d4f-200d-4ad5-842e-0c7a1af073b0",
   "metadata": {},
   "outputs": [
    {
     "name": "stdout",
     "output_type": "stream",
     "text": [
      "                                        RMSE    R-squared\n",
      " 1. RandomForestRegressor               2.95    0.91\n",
      " 2. DecisionTreeRegressor               4.27    0.82\n",
      " 3. LinearRegression                    4.84    0.76\n",
      " 4. KNeighborsRegressor                 6.74    0.54\n"
     ]
    },
    {
     "data": {
      "text/plain": [
       "<matplotlib.legend.Legend at 0x207cd835dc0>"
      ]
     },
     "execution_count": 40,
     "metadata": {},
     "output_type": "execute_result"
    },
    {
     "data": {
      "image/png": "[encoded data removed]",
      "text/plain": [
       "<Figure size 432x288 with 1 Axes>"
      ]
     },
     "metadata": {
      "needs_background": "light"
     },
     "output_type": "display_data"
    }
   ],
   "source": [
    "result_list = []\n",
    "\n",
    "for model in model_list:\n",
    "    model.fit(X_train, y_train) # train using training set\n",
    "    pred = model.predict(X_test) # evaluate the performance using test set\n",
    "    mse = mean_squared_error(y_test, pred) # compute MSE\n",
    "    r2 = r2_score(y_test, pred) # r2 score (r-square score, max 1, can be -ve)\n",
    "    rmse = np.sqrt(mse)\n",
    "    result_list.append(RunResult(model, rmse, pred, r2))\n",
    "    \n",
    "# sort the results by error and then print the result\n",
    "result_list.sort(key=operator.attrgetter('error'))\n",
    "\n",
    "space=' '\n",
    "print(f'{space*40}RMSE{space*4}R-squared')\n",
    "for i, result in enumerate(result_list):\n",
    "    print(f'{i+1:2}. {type(result.model).__name__:30}    {result.error:6.2f}    {result.r2:.2f}')\n",
    "\n",
    "best_model = result_list[0].model\n",
    "lowest_error = result_list[0].error\n",
    "best_pred = result_list[0].pred\n",
    "\n",
    "# performance of the best model\n",
    "x_index = np.arange(0, pred.shape[0])\n",
    "dist = y_test - best_pred # compute distance between actual pt and predicted pt\n",
    "\n",
    "plt.plot(x_index, pred,  marker='.', alpha=1, color='b', label='Predicted')\n",
    "plt.plot(x_index, y_test, marker='x', alpha=0.8, color='r', label='y_test')\n",
    "plt.plot(x_index, dist, marker='.', alpha=0.8, linestyle='--', color='g', label='Error')\n",
    "plt.title(f'{type(best_model).__name__}' )\n",
    "plt.ylabel('Price')\n",
    "plt.xlabel('Data')\n",
    "plt.legend()"
   ]
  },
  {
   "cell_type": "markdown",
   "id": "1865e0a0-a013-4687-ab26-39da845c7b0c",
   "metadata": {},
   "source": [
    "### Cross-validated RMSE"
   ]
  },
  {
   "cell_type": "code",
   "execution_count": 41,
   "id": "eebdb7b2-9d5f-45cf-882a-0bbe372db110",
   "metadata": {},
   "outputs": [
    {
     "name": "stdout",
     "output_type": "stream",
     "text": [
      "RMSE scores: [3.18627024 3.41070411 2.99898925 3.08634039 3.14686577]\n",
      "RMSE mean: 3.17\n",
      "RMSE std: 0.14\n"
     ]
    }
   ],
   "source": [
    "from sklearn.model_selection import cross_val_score\n",
    "\n",
    "scores = cross_val_score(best_model, X_train, y_train, scoring='neg_mean_squared_error', cv=5) # Warning: cv have to run 5 times!\n",
    "\n",
    "rmse_cv = np.sqrt(-scores) # For sklearn, the higher the score, the better the performance. Error is the opposite, so the score is negative.\n",
    "print(f'RMSE scores: {rmse_cv}')\n",
    "print(f'RMSE mean: {rmse_cv.mean():.2f}')\n",
    "print(f'RMSE std: {rmse_cv.std():.2f}')"
   ]
  },
  {
   "cell_type": "code",
   "execution_count": 42,
   "id": "f3b7d653-133c-4ffb-99d1-f10bfe6665d9",
   "metadata": {},
   "outputs": [
    {
     "name": "stdout",
     "output_type": "stream",
     "text": [
      "dict_keys(['fit_time', 'score_time', 'test_score'])\n",
      "Fit time:[0.07159472 0.07048368 0.06294227 0.06742263 0.07745528]\n",
      "Score time:[0.         0.00099754 0.         0.         0.        ]\n",
      "Test score:[3.06682242 3.07243574 3.2034944  3.7368357  2.90349466]\n"
     ]
    }
   ],
   "source": [
    "from sklearn.model_selection import cross_validate\n",
    "from sklearn.ensemble import GradientBoostingRegressor\n",
    "\n",
    "model = GradientBoostingRegressor()\n",
    "cv_results = cross_validate(model, X_train, y_train, scoring='neg_mean_squared_error', cv=5)\n",
    "#     print(len(cv_results))\n",
    "print(cv_results.keys())\n",
    "print('Fit time:' + str(cv_results['fit_time']))  # fit time of each split \n",
    "print('Score time:' + str(cv_results['score_time'])) # score time of each split\n",
    "rmse_cv = np.sqrt(-cv_results['test_score'])\n",
    "print('Test score:' + str(rmse_cv))"
   ]
  },
  {
   "cell_type": "code",
   "execution_count": null,
   "id": "db6f812f-b52d-472b-9c9f-917bf03f4eeb",
   "metadata": {},
   "outputs": [],
   "source": []
  },
  {
   "cell_type": "markdown",
   "id": "488bd79c-1c41-4875-aee3-efaeca0e2e8c",
   "metadata": {},
   "source": [
    "###  predict"
   ]
  },
  {
   "cell_type": "code",
   "execution_count": 43,
   "id": "eb351921-0947-45ef-9aa7-34832d1f9531",
   "metadata": {},
   "outputs": [],
   "source": [
    "best_model = result_list[0].model"
   ]
  },
  {
   "cell_type": "code",
   "execution_count": 45,
   "id": "6d3107ca-6e7d-402f-9261-4bbb35a70e62",
   "metadata": {},
   "outputs": [
    {
     "name": "stdout",
     "output_type": "stream",
     "text": [
      "Predicted price: $22.22 K\n"
     ]
    }
   ],
   "source": [
    "rows =[[0.02631, 0.0, 7.5, 0.0, 0.469, 6.421, 78.9, 4.99, 2.1, 242.0, 17.8, 396.90, 9.14]]\n",
    "\n",
    "unseen_pred = best_model.predict(rows)\n",
    "print(f'Predicted price: ${unseen_pred[0]:.2f} K')"
   ]
  },
  {
   "cell_type": "markdown",
   "id": "7c8403ec-2b1b-43a7-8b4b-f5ad16d305a8",
   "metadata": {},
   "source": [
    "###  Data scaling"
   ]
  },
  {
   "cell_type": "code",
   "execution_count": 2,
   "id": "f9d4140b-d53d-470f-b2c1-ead2b81f0cc2",
   "metadata": {},
   "outputs": [],
   "source": [
    "X = boston['data']\n",
    "y = boston['target']"
   ]
  },
  {
   "cell_type": "code",
   "execution_count": 3,
   "id": "20b1cbec-e28a-4eef-8644-2a0392932633",
   "metadata": {},
   "outputs": [],
   "source": [
    "# StandardScaler for standardization\n",
    "# MinMaxScaler for min-max normalization \n",
    "from sklearn.preprocessing import StandardScaler, MinMaxScaler \n",
    "minMaxScaler = MinMaxScaler().fit(X)\n",
    "X_processed = minMaxScaler.transform(X)\n",
    "\n",
    "##  OR if you need standardization ( z=(x-u)/s, where u is mean, s is standard dev)\n",
    "# X_processed = StandardScaler().fit_transform(X) \n",
    "\n"
   ]
  },
  {
   "cell_type": "code",
   "execution_count": 5,
   "id": "b6193991-e772-407d-b05a-269147ab2a5a",
   "metadata": {},
   "outputs": [
    {
     "data": {
      "text/html": [
       "<div>\n",
       "<style scoped>\n",
       "    .dataframe tbody tr th:only-of-type {\n",
       "        vertical-align: middle;\n",
       "    }\n",
       "\n",
       "    .dataframe tbody tr th {\n",
       "        vertical-align: top;\n",
       "    }\n",
       "\n",
       "    .dataframe thead th {\n",
       "        text-align: right;\n",
       "    }\n",
       "</style>\n",
       "<table border=\"1\" class=\"dataframe\">\n",
       "  <thead>\n",
       "    <tr style=\"text-align: right;\">\n",
       "      <th></th>\n",
       "      <th>CRIM</th>\n",
       "      <th>ZN</th>\n",
       "      <th>INDUS</th>\n",
       "      <th>CHAS</th>\n",
       "      <th>NOX</th>\n",
       "      <th>RM</th>\n",
       "      <th>AGE</th>\n",
       "      <th>DIS</th>\n",
       "      <th>RAD</th>\n",
       "      <th>TAX</th>\n",
       "      <th>PTRATIO</th>\n",
       "      <th>B</th>\n",
       "      <th>LSTAT</th>\n",
       "    </tr>\n",
       "  </thead>\n",
       "  <tbody>\n",
       "    <tr>\n",
       "      <th>0</th>\n",
       "      <td>0.000000</td>\n",
       "      <td>0.18</td>\n",
       "      <td>0.067815</td>\n",
       "      <td>0.0</td>\n",
       "      <td>0.314815</td>\n",
       "      <td>0.577505</td>\n",
       "      <td>0.641607</td>\n",
       "      <td>0.269203</td>\n",
       "      <td>0.000000</td>\n",
       "      <td>0.208015</td>\n",
       "      <td>0.287234</td>\n",
       "      <td>1.000000</td>\n",
       "      <td>0.089680</td>\n",
       "    </tr>\n",
       "    <tr>\n",
       "      <th>1</th>\n",
       "      <td>0.000236</td>\n",
       "      <td>0.00</td>\n",
       "      <td>0.242302</td>\n",
       "      <td>0.0</td>\n",
       "      <td>0.172840</td>\n",
       "      <td>0.547998</td>\n",
       "      <td>0.782698</td>\n",
       "      <td>0.348962</td>\n",
       "      <td>0.043478</td>\n",
       "      <td>0.104962</td>\n",
       "      <td>0.553191</td>\n",
       "      <td>1.000000</td>\n",
       "      <td>0.204470</td>\n",
       "    </tr>\n",
       "    <tr>\n",
       "      <th>2</th>\n",
       "      <td>0.000236</td>\n",
       "      <td>0.00</td>\n",
       "      <td>0.242302</td>\n",
       "      <td>0.0</td>\n",
       "      <td>0.172840</td>\n",
       "      <td>0.694386</td>\n",
       "      <td>0.599382</td>\n",
       "      <td>0.348962</td>\n",
       "      <td>0.043478</td>\n",
       "      <td>0.104962</td>\n",
       "      <td>0.553191</td>\n",
       "      <td>0.989737</td>\n",
       "      <td>0.063466</td>\n",
       "    </tr>\n",
       "    <tr>\n",
       "      <th>3</th>\n",
       "      <td>0.000293</td>\n",
       "      <td>0.00</td>\n",
       "      <td>0.063050</td>\n",
       "      <td>0.0</td>\n",
       "      <td>0.150206</td>\n",
       "      <td>0.658555</td>\n",
       "      <td>0.441813</td>\n",
       "      <td>0.448545</td>\n",
       "      <td>0.086957</td>\n",
       "      <td>0.066794</td>\n",
       "      <td>0.648936</td>\n",
       "      <td>0.994276</td>\n",
       "      <td>0.033389</td>\n",
       "    </tr>\n",
       "    <tr>\n",
       "      <th>4</th>\n",
       "      <td>0.000705</td>\n",
       "      <td>0.00</td>\n",
       "      <td>0.063050</td>\n",
       "      <td>0.0</td>\n",
       "      <td>0.150206</td>\n",
       "      <td>0.687105</td>\n",
       "      <td>0.528321</td>\n",
       "      <td>0.448545</td>\n",
       "      <td>0.086957</td>\n",
       "      <td>0.066794</td>\n",
       "      <td>0.648936</td>\n",
       "      <td>1.000000</td>\n",
       "      <td>0.099338</td>\n",
       "    </tr>\n",
       "    <tr>\n",
       "      <th>...</th>\n",
       "      <td>...</td>\n",
       "      <td>...</td>\n",
       "      <td>...</td>\n",
       "      <td>...</td>\n",
       "      <td>...</td>\n",
       "      <td>...</td>\n",
       "      <td>...</td>\n",
       "      <td>...</td>\n",
       "      <td>...</td>\n",
       "      <td>...</td>\n",
       "      <td>...</td>\n",
       "      <td>...</td>\n",
       "      <td>...</td>\n",
       "    </tr>\n",
       "    <tr>\n",
       "      <th>501</th>\n",
       "      <td>0.000633</td>\n",
       "      <td>0.00</td>\n",
       "      <td>0.420455</td>\n",
       "      <td>0.0</td>\n",
       "      <td>0.386831</td>\n",
       "      <td>0.580954</td>\n",
       "      <td>0.681771</td>\n",
       "      <td>0.122671</td>\n",
       "      <td>0.000000</td>\n",
       "      <td>0.164122</td>\n",
       "      <td>0.893617</td>\n",
       "      <td>0.987619</td>\n",
       "      <td>0.219095</td>\n",
       "    </tr>\n",
       "    <tr>\n",
       "      <th>502</th>\n",
       "      <td>0.000438</td>\n",
       "      <td>0.00</td>\n",
       "      <td>0.420455</td>\n",
       "      <td>0.0</td>\n",
       "      <td>0.386831</td>\n",
       "      <td>0.490324</td>\n",
       "      <td>0.760041</td>\n",
       "      <td>0.105293</td>\n",
       "      <td>0.000000</td>\n",
       "      <td>0.164122</td>\n",
       "      <td>0.893617</td>\n",
       "      <td>1.000000</td>\n",
       "      <td>0.202815</td>\n",
       "    </tr>\n",
       "    <tr>\n",
       "      <th>503</th>\n",
       "      <td>0.000612</td>\n",
       "      <td>0.00</td>\n",
       "      <td>0.420455</td>\n",
       "      <td>0.0</td>\n",
       "      <td>0.386831</td>\n",
       "      <td>0.654340</td>\n",
       "      <td>0.907312</td>\n",
       "      <td>0.094381</td>\n",
       "      <td>0.000000</td>\n",
       "      <td>0.164122</td>\n",
       "      <td>0.893617</td>\n",
       "      <td>1.000000</td>\n",
       "      <td>0.107892</td>\n",
       "    </tr>\n",
       "    <tr>\n",
       "      <th>504</th>\n",
       "      <td>0.001161</td>\n",
       "      <td>0.00</td>\n",
       "      <td>0.420455</td>\n",
       "      <td>0.0</td>\n",
       "      <td>0.386831</td>\n",
       "      <td>0.619467</td>\n",
       "      <td>0.889804</td>\n",
       "      <td>0.114514</td>\n",
       "      <td>0.000000</td>\n",
       "      <td>0.164122</td>\n",
       "      <td>0.893617</td>\n",
       "      <td>0.991301</td>\n",
       "      <td>0.131071</td>\n",
       "    </tr>\n",
       "    <tr>\n",
       "      <th>505</th>\n",
       "      <td>0.000462</td>\n",
       "      <td>0.00</td>\n",
       "      <td>0.420455</td>\n",
       "      <td>0.0</td>\n",
       "      <td>0.386831</td>\n",
       "      <td>0.473079</td>\n",
       "      <td>0.802266</td>\n",
       "      <td>0.125072</td>\n",
       "      <td>0.000000</td>\n",
       "      <td>0.164122</td>\n",
       "      <td>0.893617</td>\n",
       "      <td>1.000000</td>\n",
       "      <td>0.169702</td>\n",
       "    </tr>\n",
       "  </tbody>\n",
       "</table>\n",
       "<p>506 rows × 13 columns</p>\n",
       "</div>"
      ],
      "text/plain": [
       "         CRIM    ZN     INDUS  CHAS       NOX        RM       AGE       DIS  \\\n",
       "0    0.000000  0.18  0.067815   0.0  0.314815  0.577505  0.641607  0.269203   \n",
       "1    0.000236  0.00  0.242302   0.0  0.172840  0.547998  0.782698  0.348962   \n",
       "2    0.000236  0.00  0.242302   0.0  0.172840  0.694386  0.599382  0.348962   \n",
       "3    0.000293  0.00  0.063050   0.0  0.150206  0.658555  0.441813  0.448545   \n",
       "4    0.000705  0.00  0.063050   0.0  0.150206  0.687105  0.528321  0.448545   \n",
       "..        ...   ...       ...   ...       ...       ...       ...       ...   \n",
       "501  0.000633  0.00  0.420455   0.0  0.386831  0.580954  0.681771  0.122671   \n",
       "502  0.000438  0.00  0.420455   0.0  0.386831  0.490324  0.760041  0.105293   \n",
       "503  0.000612  0.00  0.420455   0.0  0.386831  0.654340  0.907312  0.094381   \n",
       "504  0.001161  0.00  0.420455   0.0  0.386831  0.619467  0.889804  0.114514   \n",
       "505  0.000462  0.00  0.420455   0.0  0.386831  0.473079  0.802266  0.125072   \n",
       "\n",
       "          RAD       TAX   PTRATIO         B     LSTAT  \n",
       "0    0.000000  0.208015  0.287234  1.000000  0.089680  \n",
       "1    0.043478  0.104962  0.553191  1.000000  0.204470  \n",
       "2    0.043478  0.104962  0.553191  0.989737  0.063466  \n",
       "3    0.086957  0.066794  0.648936  0.994276  0.033389  \n",
       "4    0.086957  0.066794  0.648936  1.000000  0.099338  \n",
       "..        ...       ...       ...       ...       ...  \n",
       "501  0.000000  0.164122  0.893617  0.987619  0.219095  \n",
       "502  0.000000  0.164122  0.893617  1.000000  0.202815  \n",
       "503  0.000000  0.164122  0.893617  1.000000  0.107892  \n",
       "504  0.000000  0.164122  0.893617  0.991301  0.131071  \n",
       "505  0.000000  0.164122  0.893617  1.000000  0.169702  \n",
       "\n",
       "[506 rows x 13 columns]"
      ]
     },
     "execution_count": 5,
     "metadata": {},
     "output_type": "execute_result"
    }
   ],
   "source": [
    "# use pandas dataframe\n",
    "import pandas as pd\n",
    "\n",
    "df_processed = pd.DataFrame(X_processed, columns=boston['feature_names'])\n",
    "df_processed"
   ]
  },
  {
   "cell_type": "code",
   "execution_count": null,
   "id": "0190636e-62f5-42dd-bf7c-97c5504f0fc3",
   "metadata": {},
   "outputs": [],
   "source": []
  },
  {
   "cell_type": "code",
   "execution_count": null,
   "id": "08543134-b2ee-4517-9d75-498384d71574",
   "metadata": {},
   "outputs": [],
   "source": []
  },
  {
   "cell_type": "code",
   "execution_count": null,
   "id": "be0ca4e5-8ee9-40ac-8034-98ba02cbe233",
   "metadata": {},
   "outputs": [],
   "source": []
  },
  {
   "cell_type": "code",
   "execution_count": null,
   "id": "529a5377-f2f6-4655-9cc4-10b263afbd04",
   "metadata": {},
   "outputs": [],
   "source": []
  },
  {
   "cell_type": "code",
   "execution_count": null,
   "id": "be5e7003-7a4b-460e-8f86-73fcb76c07c0",
   "metadata": {},
   "outputs": [],
   "source": []
  }
 ],
 "metadata": {
  "kernelspec": {
   "display_name": "Python 3 (ipykernel)",
   "language": "python",
   "name": "python3"
  },
  "language_info": {
   "codemirror_mode": {
    "name": "ipython",
    "version": 3
   },
   "file_extension": ".py",
   "mimetype": "text/x-python",
   "name": "python",
   "nbconvert_exporter": "python",
   "pygments_lexer": "ipython3",
   "version": "3.9.12"
  }
 },
 "nbformat": 4,
 "nbformat_minor": 5
}
