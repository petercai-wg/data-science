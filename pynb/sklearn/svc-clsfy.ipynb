{
 "cells": [
  {
   "cell_type": "markdown",
   "id": "166beebd-e5a9-49fd-ab8d-615c39ae2903",
   "metadata": {},
   "source": [
    "### Machine Learning\n",
    "####  1  Supervised Learning \n",
    "#####   Regression (predict value)\n",
    "#####   Classification (predict label)\n",
    "####  2 Unsupervised Learning \n",
    "- #####    Clustering \n",
    "- #####    Dimensionality reduction "
   ]
  },
  {
   "cell_type": "code",
   "execution_count": null,
   "id": "0fe50223-cf1c-442f-8a4b-2dd9802af210",
   "metadata": {},
   "outputs": [],
   "source": []
  },
  {
   "cell_type": "code",
   "execution_count": 1,
   "id": "39a2fdfc-8f0a-4ba8-a90e-e354d3a7ae00",
   "metadata": {},
   "outputs": [
    {
     "data": {
      "text/plain": [
       "dict_keys(['data', 'target', 'frame', 'feature_names', 'target_names', 'images', 'DESCR'])"
      ]
     },
     "execution_count": 1,
     "metadata": {},
     "output_type": "execute_result"
    }
   ],
   "source": [
    "from sklearn.datasets import load_digits\n",
    "digits = load_digits() # load digits dataset (bundled with sklearn for learning / testing purpose)\n",
    "\n",
    "digits.keys()"
   ]
  },
  {
   "cell_type": "code",
   "execution_count": 2,
   "id": "aeb42a49-3d98-4186-8cda-ed610bddecf0",
   "metadata": {},
   "outputs": [
    {
     "name": "stdout",
     "output_type": "stream",
     "text": [
      ".. _digits_dataset:\n",
      "\n",
      "Optical recognition of handwritten digits dataset\n",
      "--------------------------------------------------\n",
      "\n",
      "**Data Set Characteristics:**\n",
      "\n",
      "    :Number of Instances: 1797\n",
      "    :Number of Attributes: 64\n",
      "    :Attribute Information: 8x8 image of integer pixels in the range 0..16.\n",
      "    :Missing Attribute Values: None\n",
      "    :Creator: E. Alpaydin (alpaydin '@' boun.edu.tr)\n",
      "    :Date: July; 1998\n",
      "\n",
      "This is a copy of the test set of the UCI ML hand-written digits datasets\n",
      "https://archive.ics.uci.edu/ml/datasets/Optical+Recognition+of+Handwritten+Digits\n",
      "\n",
      "The data set contains images of hand-written digits: 10 classes where\n",
      "each class refers to a digit.\n",
      "\n",
      "Preprocessing programs made available by NIST were used to extract\n",
      "normalized bitmaps of handwritten digits from a preprinted form. From a\n",
      "total of 43 people, 30 contributed to the training set and different 13\n",
      "to the test set. 32x32 bitmaps are divided into nonoverlapping blocks of\n",
      "4x4 and the number of on pixels are counted in each block. This generates\n",
      "an input matrix of 8x8 where each element is an integer in the range\n",
      "0..16. This reduces dimensionality and gives invariance to small\n",
      "distortions.\n",
      "\n",
      "For info on NIST preprocessing routines, see M. D. Garris, J. L. Blue, G.\n",
      "T. Candela, D. L. Dimmick, J. Geist, P. J. Grother, S. A. Janet, and C.\n",
      "L. Wilson, NIST Form-Based Handprint Recognition System, NISTIR 5469,\n",
      "1994.\n",
      "\n",
      ".. topic:: References\n",
      "\n",
      "  - C. Kaynak (1995) Methods of Combining Multiple Classifiers and Their\n",
      "    Applications to Handwritten Digit Recognition, MSc Thesis, Institute of\n",
      "    Graduate Studies in Science and Engineering, Bogazici University.\n",
      "  - E. Alpaydin, C. Kaynak (1998) Cascading Classifiers, Kybernetika.\n",
      "  - Ken Tang and Ponnuthurai N. Suganthan and Xi Yao and A. Kai Qin.\n",
      "    Linear dimensionalityreduction using relevance weighted LDA. School of\n",
      "    Electrical and Electronic Engineering Nanyang Technological University.\n",
      "    2005.\n",
      "  - Claudio Gentile. A New Approximate Maximal Margin Classification\n",
      "    Algorithm. NIPS. 2000.\n",
      "\n",
      "(1797, 64)\n"
     ]
    }
   ],
   "source": [
    "print(digits['DESCR'])\n",
    "\n",
    "print(digits.data.shape)\n"
   ]
  },
  {
   "cell_type": "code",
   "execution_count": 3,
   "id": "720d37cb-1306-4435-bfe9-e9496f71eb48",
   "metadata": {},
   "outputs": [
    {
     "name": "stdout",
     "output_type": "stream",
     "text": [
      "<class 'numpy.ndarray'>\n"
     ]
    }
   ],
   "source": [
    "print(type(digits.images))"
   ]
  },
  {
   "cell_type": "code",
   "execution_count": 4,
   "id": "e38438f4-5d40-45ac-b478-4a5aae5f214f",
   "metadata": {},
   "outputs": [
    {
     "data": {
      "text/plain": [
       "<matplotlib.image.AxesImage at 0x1a1c1b5cc70>"
      ]
     },
     "execution_count": 4,
     "metadata": {},
     "output_type": "execute_result"
    },
    {
     "data": {
      "image/png": "[encoded data removed]",
      "text/plain": [
       "<Figure size 432x288 with 1 Axes>"
      ]
     },
     "metadata": {
      "needs_background": "light"
     },
     "output_type": "display_data"
    }
   ],
   "source": [
    "## visualize the data set\n",
    "import matplotlib.pyplot as plt\n",
    "\n",
    "\n",
    "dig_img = digits.images[3]\n",
    "plt.axis('off')\n",
    "plt.imshow(dig_img, cmap='binary') # imshow - display data as image"
   ]
  },
  {
   "cell_type": "code",
   "execution_count": 5,
   "id": "346fe414-c046-4306-8db4-eccf75962af7",
   "metadata": {},
   "outputs": [
    {
     "data": {
      "image/png": "[encoded data removed]",
      "text/plain": [
       "<Figure size 576x576 with 100 Axes>"
      ]
     },
     "metadata": {
      "needs_background": "light"
     },
     "output_type": "display_data"
    }
   ],
   "source": [
    "import matplotlib.pyplot as plt\n",
    "\n",
    "fig, axes = plt.subplots(10, 10, figsize=(8,8)) # print first 100 digits\n",
    "\n",
    "for i, ax in enumerate(axes.flat):\n",
    "    dig_img = digits.images[i]\n",
    "    ax.axis('off')\n",
    "    ax.text(0, 0, digits.target[i], color='blue')\n",
    "    ax.imshow(dig_img, cmap='binary')"
   ]
  },
  {
   "cell_type": "markdown",
   "id": "0d86b55a-f70f-4556-b14d-b0824fd6de1b",
   "metadata": {},
   "source": [
    "#### Split the data into Training set & Testing set\n",
    "- Training set for training\n",
    "- Testing set for performance evaluation"
   ]
  },
  {
   "cell_type": "code",
   "execution_count": 7,
   "id": "33e5d182-7fbb-4df3-8b70-0726535005bd",
   "metadata": {},
   "outputs": [],
   "source": [
    "X, y = digits.data, digits.target"
   ]
  },
  {
   "cell_type": "code",
   "execution_count": 8,
   "id": "1079c831-a743-413c-a03a-b57054c229f2",
   "metadata": {},
   "outputs": [],
   "source": [
    "# divide the data into TRAINING SET AND TESTING SET\n",
    "# TRAINING SET is for training / learning / fit\n",
    "# TESTING SET is for checking the accuracy of prediction\n",
    "\n",
    "from sklearn.model_selection import train_test_split\n",
    "X_train, X_test, y_train, y_test = train_test_split(X, y, random_state=1)"
   ]
  },
  {
   "cell_type": "code",
   "execution_count": 21,
   "id": "7703acd2-97c8-40e2-a7b1-2dc3278c11b1",
   "metadata": {},
   "outputs": [
    {
     "name": "stdout",
     "output_type": "stream",
     "text": [
      "CPU times: total: 31.2 ms\n",
      "Wall time: 27.1 ms\n"
     ]
    },
    {
     "data": {
      "text/plain": [
       "SVC(C=1, kernel='linear', random_state=0)"
      ]
     },
     "execution_count": 21,
     "metadata": {},
     "output_type": "execute_result"
    }
   ],
   "source": [
    "%%time\n",
    "from sklearn.svm import SVC\n",
    "svc = SVC(kernel='linear', C=1, random_state=0)\n",
    "svc.fit(X_train, y_train)  "
   ]
  },
  {
   "cell_type": "code",
   "execution_count": 10,
   "id": "da388d72-b609-4f70-b0ea-d3ef89961971",
   "metadata": {},
   "outputs": [],
   "source": [
    "svc_pred = svc.predict(X_test) # this is slow of large amount of data"
   ]
  },
  {
   "cell_type": "code",
   "execution_count": 11,
   "id": "04511c3a-544b-40d0-bdfc-1651d646dc60",
   "metadata": {},
   "outputs": [
    {
     "data": {
      "text/plain": [
       "0.9844444444444445"
      ]
     },
     "execution_count": 11,
     "metadata": {},
     "output_type": "execute_result"
    }
   ],
   "source": [
    "from sklearn.metrics import accuracy_score\n",
    "accuracy_score(y_test, svc_pred) # TEST SET accuracy"
   ]
  },
  {
   "cell_type": "code",
   "execution_count": 12,
   "id": "af6a64b8-c8ee-4a4c-907c-6af4fa9e9e9a",
   "metadata": {},
   "outputs": [
    {
     "name": "stdout",
     "output_type": "stream",
     "text": [
      "              precision    recall  f1-score   support\n",
      "\n",
      "           0       1.00      1.00      1.00        53\n",
      "           1       1.00      1.00      1.00        42\n",
      "           2       1.00      1.00      1.00        41\n",
      "           3       0.98      0.98      0.98        52\n",
      "           4       1.00      1.00      1.00        47\n",
      "           5       0.95      0.97      0.96        39\n",
      "           6       1.00      1.00      1.00        43\n",
      "           7       1.00      0.98      0.99        48\n",
      "           8       0.95      0.97      0.96        37\n",
      "           9       0.96      0.94      0.95        48\n",
      "\n",
      "    accuracy                           0.98       450\n",
      "   macro avg       0.98      0.98      0.98       450\n",
      "weighted avg       0.98      0.98      0.98       450\n",
      "\n"
     ]
    }
   ],
   "source": [
    "from sklearn import metrics\n",
    "print(metrics.classification_report(y_test, svc_pred))\n",
    "\n",
    "# support: # of true sample of this class\n",
    "# precision: tp / (tp + fp) \n",
    "# recall: tp / (tp + fn)\n",
    "# f1-score: 2 * (precision * recall) / (precision + recall) => weighted average of the precision and recall"
   ]
  },
  {
   "cell_type": "code",
   "execution_count": 13,
   "id": "2cca12b7-76f1-42dd-9c49-7583bcf85f57",
   "metadata": {},
   "outputs": [
    {
     "data": {
      "image/png": "[encoded data removed]",
      "text/plain": [
       "<Figure size 432x288 with 2 Axes>"
      ]
     },
     "metadata": {
      "needs_background": "light"
     },
     "output_type": "display_data"
    }
   ],
   "source": [
    "##### Confusion matrix\n",
    "import seaborn as sns\n",
    "from sklearn.metrics import confusion_matrix\n",
    "conf_mat = confusion_matrix(y_test, svc_pred)\n",
    "\n",
    "res = sns.heatmap(conf_mat, square=True, annot=True, fmt='d',cmap='Reds')"
   ]
  },
  {
   "cell_type": "markdown",
   "id": "d637304d-428b-48bb-91df-5da3e7ba9782",
   "metadata": {},
   "source": [
    "#### Cross Validation\n",
    "- k-fold CV - Randomly split the data into k equal parts and use 1 part as a validation set at a time to check the performance of that run\n",
    "- Repeat K times to get the average score of runs"
   ]
  },
  {
   "cell_type": "code",
   "execution_count": 15,
   "id": "c0a306d7-85d9-4687-8680-54dabe7fd330",
   "metadata": {},
   "outputs": [
    {
     "name": "stdout",
     "output_type": "stream",
     "text": [
      "0.9829408512990602\n"
     ]
    },
    {
     "data": {
      "text/plain": [
       "array([0.97037037, 0.97037037, 0.97037037, 0.97777778, 0.99259259,\n",
       "       0.99259259, 0.98518519, 0.98507463, 0.99253731, 0.99253731])"
      ]
     },
     "execution_count": 15,
     "metadata": {},
     "output_type": "execute_result"
    }
   ],
   "source": [
    "# K-fold validation\n",
    "\n",
    "from sklearn.model_selection import cross_val_score\n",
    "from sklearn.neighbors import KNeighborsClassifier\n",
    "knn = KNeighborsClassifier()\n",
    "scores = cross_val_score(knn, X_train, y_train, scoring='accuracy', cv=10) \n",
    "\n",
    "print(scores.mean())\n",
    "scores"
   ]
  },
  {
   "cell_type": "code",
   "execution_count": null,
   "id": "2e319bde-aaf8-46d1-a302-24cfc68cbd02",
   "metadata": {},
   "outputs": [],
   "source": []
  },
  {
   "cell_type": "code",
   "execution_count": 16,
   "id": "cb7bfbac-437a-450a-9890-df19e4eca552",
   "metadata": {},
   "outputs": [
    {
     "name": "stdout",
     "output_type": "stream",
     "text": [
      "dict_keys(['fit_time', 'score_time', 'test_score'])\n",
      "Fit time:[0.00084853 0.00099874 0.00099707 0.00099587 0.00099802 0.0010252\n",
      " 0.00099707 0.         0.         0.        ]\n",
      "Score time:[0.00801563 0.0069809  0.00797939 0.01595926 0.01196647 0.0099442\n",
      " 0.00463796 0.01564956 0.         0.02184725]\n",
      "Accuracy: [0.97037037 0.97037037 0.97037037 0.97777778 0.99259259 0.99259259\n",
      " 0.98518519 0.98507463 0.99253731 0.99253731]\n"
     ]
    }
   ],
   "source": [
    "from sklearn.model_selection import cross_validate\n",
    "knn = KNeighborsClassifier()\n",
    "\n",
    "cv_results = cross_validate(knn, X_train, y_train, scoring='accuracy', cv=10)\n",
    "\n",
    "print(cv_results.keys())\n",
    "print('Fit time:' + str(cv_results['fit_time']))  # fit time of each split \n",
    "print('Score time:' + str(cv_results['score_time'])) # score time of each split\n",
    "print('Accuracy: ' + str(cv_results['test_score'])) # score of each split"
   ]
  },
  {
   "cell_type": "code",
   "execution_count": null,
   "id": "e221b355-7008-4bd0-9268-c2e5b364eece",
   "metadata": {},
   "outputs": [],
   "source": []
  },
  {
   "cell_type": "markdown",
   "id": "0c8fcb52-49bb-4081-97c7-414a9a0828f7",
   "metadata": {},
   "source": [
    "### hyperparameters tuning\n",
    "- there are many combinations\n",
    "- use cross validation\n",
    "- it could be slow!\n",
    "\n",
    "**GridSearchCV**"
   ]
  },
  {
   "cell_type": "code",
   "execution_count": 23,
   "id": "5ec4ff5e-06c9-488f-98de-3d6bc9b3bde6",
   "metadata": {},
   "outputs": [
    {
     "data": {
      "text/plain": [
       "GridSearchCV(cv=5, estimator=KNeighborsClassifier(),\n",
       "             param_grid=[{'n_neighbors': range(2, 21),\n",
       "                          'weights': ['uniform', 'distance']}],\n",
       "             return_train_score=True, scoring='accuracy')"
      ]
     },
     "execution_count": 23,
     "metadata": {},
     "output_type": "execute_result"
    }
   ],
   "source": [
    "# KNeighborsClassifier(n_neighbors=3)\n",
    "\n",
    "from sklearn.model_selection import GridSearchCV\n",
    "params = [\n",
    "    {'n_neighbors':range(2,21),\n",
    "     'weights':['uniform','distance'],},  # 19*2=38 combinations\n",
    "]\n",
    "\n",
    "# weights: weight function used in prediction\n",
    "# Possible values: ‘uniform’ : uniform weights. All points in each neighborhood are weighted equally.\n",
    "#                  ‘distance’ : weight points by the inverse of their distance \n",
    "\n",
    "\n",
    "\n",
    "clf = KNeighborsClassifier()\n",
    "search_cv = GridSearchCV(clf, params, cv=5, scoring='accuracy', return_train_score=True)\n",
    "search_cv.fit(X_train, y_train)"
   ]
  },
  {
   "cell_type": "code",
   "execution_count": 24,
   "id": "e7a3b63c-3881-4f22-8e54-322b2e059015",
   "metadata": {},
   "outputs": [
    {
     "data": {
      "text/plain": [
       "KNeighborsClassifier(n_neighbors=2, weights='distance')"
      ]
     },
     "execution_count": 24,
     "metadata": {},
     "output_type": "execute_result"
    }
   ],
   "source": [
    "search_cv.best_estimator_"
   ]
  },
  {
   "cell_type": "code",
   "execution_count": 25,
   "id": "34da2632-ec12-4cdf-90c3-1c05f5ec5fb6",
   "metadata": {},
   "outputs": [
    {
     "name": "stdout",
     "output_type": "stream",
     "text": [
      "GridSearchCV results:\n",
      "\n",
      "  1      0.97848, {'n_neighbors': 2, 'weights': 'uniform'}\n",
      "  2 *    0.98442, {'n_neighbors': 2, 'weights': 'distance'}\n",
      "  3      0.98294, {'n_neighbors': 3, 'weights': 'uniform'}\n",
      "  4      0.98368, {'n_neighbors': 3, 'weights': 'distance'}\n",
      "  5      0.98071, {'n_neighbors': 4, 'weights': 'uniform'}\n",
      "  6      0.98368, {'n_neighbors': 4, 'weights': 'distance'}\n",
      "  7      0.98145, {'n_neighbors': 5, 'weights': 'uniform'}\n",
      "  8      0.98294, {'n_neighbors': 5, 'weights': 'distance'}\n",
      "  9      0.97700, {'n_neighbors': 6, 'weights': 'uniform'}\n",
      " 10      0.98220, {'n_neighbors': 6, 'weights': 'distance'}\n",
      " 11      0.97700, {'n_neighbors': 7, 'weights': 'uniform'}\n",
      " 12      0.97848, {'n_neighbors': 7, 'weights': 'distance'}\n",
      " 13      0.97774, {'n_neighbors': 8, 'weights': 'uniform'}\n",
      " 14      0.97922, {'n_neighbors': 8, 'weights': 'distance'}\n",
      " 15      0.97551, {'n_neighbors': 9, 'weights': 'uniform'}\n",
      " 16      0.97699, {'n_neighbors': 9, 'weights': 'distance'}\n",
      " 17      0.97402, {'n_neighbors': 10, 'weights': 'uniform'}\n",
      " 18      0.97625, {'n_neighbors': 10, 'weights': 'distance'}\n",
      " 19      0.97031, {'n_neighbors': 11, 'weights': 'uniform'}\n",
      " 20      0.97402, {'n_neighbors': 11, 'weights': 'distance'}\n",
      " 21      0.96957, {'n_neighbors': 12, 'weights': 'uniform'}\n",
      " 22      0.97179, {'n_neighbors': 12, 'weights': 'distance'}\n",
      " 23      0.96809, {'n_neighbors': 13, 'weights': 'uniform'}\n",
      " 24      0.96957, {'n_neighbors': 13, 'weights': 'distance'}\n",
      " 25      0.96512, {'n_neighbors': 14, 'weights': 'uniform'}\n",
      " 26      0.96957, {'n_neighbors': 14, 'weights': 'distance'}\n",
      " 27      0.96438, {'n_neighbors': 15, 'weights': 'uniform'}\n",
      " 28      0.96661, {'n_neighbors': 15, 'weights': 'distance'}\n",
      " 29      0.96364, {'n_neighbors': 16, 'weights': 'uniform'}\n",
      " 30      0.96735, {'n_neighbors': 16, 'weights': 'distance'}\n",
      " 31      0.96216, {'n_neighbors': 17, 'weights': 'uniform'}\n",
      " 32      0.96661, {'n_neighbors': 17, 'weights': 'distance'}\n",
      " 33      0.96067, {'n_neighbors': 18, 'weights': 'uniform'}\n",
      " 34      0.96438, {'n_neighbors': 18, 'weights': 'distance'}\n",
      " 35      0.96141, {'n_neighbors': 19, 'weights': 'uniform'}\n",
      " 36      0.96512, {'n_neighbors': 19, 'weights': 'distance'}\n",
      " 37      0.96141, {'n_neighbors': 20, 'weights': 'uniform'}\n",
      " 38      0.96438, {'n_neighbors': 20, 'weights': 'distance'}\n"
     ]
    }
   ],
   "source": [
    "print(\"GridSearchCV results:\\n\")\n",
    "for i, (mean, params) in enumerate(zip(search_cv.cv_results_['mean_test_score'], search_cv.cv_results_['params'])):\n",
    "    if search_cv.best_score_ == mean:\n",
    "        print(f' {i+1:2} * {mean:10.5f}, {params}')\n",
    "    else:\n",
    "        print(f' {i+1:2}   {mean:10.5f}, {params}')  "
   ]
  },
  {
   "cell_type": "markdown",
   "id": "6219a5a9-19d4-4237-86a4-5554d4568bdd",
   "metadata": {},
   "source": [
    "#### __GridSearchCV (another example)__"
   ]
  },
  {
   "cell_type": "code",
   "execution_count": 26,
   "id": "399b24cd-09d4-425f-ac92-8faee6acb083",
   "metadata": {},
   "outputs": [
    {
     "name": "stdout",
     "output_type": "stream",
     "text": [
      "GridSearchCV results:\n",
      "\n",
      "  1      0.97700, {'kernel': 'linear'}\n",
      "  2      0.98441, {'kernel': 'rbf'}\n",
      "  3 *    0.98739, {'kernel': 'poly'}\n",
      "  4      0.91019, {'kernel': 'sigmoid'}\n",
      "CPU times: total: 1.75 s\n",
      "Wall time: 1.75 s\n"
     ]
    }
   ],
   "source": [
    "%%time\n",
    "\n",
    "from sklearn.model_selection import GridSearchCV\n",
    "from sklearn.svm import SVC\n",
    "\n",
    "params = [\n",
    "    {'kernel': ['linear', 'rbf', 'poly', 'sigmoid'] }, # which kernel perform better (with default hyperparams)\n",
    "]\n",
    "\n",
    "model = SVC()\n",
    "\n",
    "search_cv = GridSearchCV(model, params, cv=5, scoring='accuracy', return_train_score=True)\n",
    "search_cv.fit(X_train, y_train)\n",
    "\n",
    "# print scores of each param\n",
    "print(\"GridSearchCV results:\\n\")\n",
    "for i, (mean, params) in enumerate(zip(search_cv.cv_results_['mean_test_score'], search_cv.cv_results_['params'])):\n",
    "    if search_cv.best_score_ == mean:\n",
    "        print(f' {i+1:2} * {mean:10.5f}, {params}')\n",
    "    else:\n",
    "        print(f' {i+1:2}   {mean:10.5f}, {params}')    "
   ]
  },
  {
   "cell_type": "markdown",
   "id": "e07ba47c-a9f1-409d-863e-c4bdfc7b6c19",
   "metadata": {},
   "source": [
    "##### __RandomizedSearchCV__"
   ]
  },
  {
   "cell_type": "code",
   "execution_count": 27,
   "id": "ff6ec45b-97c6-47ed-9020-6a98c94ed07f",
   "metadata": {},
   "outputs": [
    {
     "name": "stdout",
     "output_type": "stream",
     "text": [
      "CPU times: total: 16.2 s\n",
      "Wall time: 2.71 s\n"
     ]
    },
    {
     "data": {
      "text/plain": [
       "RandomizedSearchCV(cv=5, estimator=KNeighborsClassifier(),\n",
       "                   param_distributions=[{'n_neighbors': range(2, 21),\n",
       "                                         'weights': ['uniform', 'distance']}],\n",
       "                   return_train_score=True, scoring='accuracy')"
      ]
     },
     "execution_count": 27,
     "metadata": {},
     "output_type": "execute_result"
    }
   ],
   "source": [
    "%%time\n",
    "from sklearn.model_selection import RandomizedSearchCV\n",
    "params = [\n",
    "    {'n_neighbors':range(2,21), \n",
    "     'weights':['uniform','distance'],},  # ? combinations\n",
    "]\n",
    "\n",
    "clf = KNeighborsClassifier()\n",
    "# n_iter -> just randomly pick n combinations for evaluation! (default = 10)\n",
    "search_rand = RandomizedSearchCV(clf, params, cv=5, n_iter=10, scoring='accuracy', return_train_score=True)\n",
    "search_rand.fit(X_train, y_train)"
   ]
  },
  {
   "cell_type": "code",
   "execution_count": 28,
   "id": "ee184a2d-ea97-4591-9c9b-c16303e1ca2b",
   "metadata": {},
   "outputs": [
    {
     "data": {
      "text/plain": [
       "KNeighborsClassifier(n_neighbors=6, weights='distance')"
      ]
     },
     "execution_count": 28,
     "metadata": {},
     "output_type": "execute_result"
    }
   ],
   "source": [
    "search_rand.best_estimator_"
   ]
  },
  {
   "cell_type": "code",
   "execution_count": 29,
   "id": "cae9fc6f-7702-43f3-b2e7-0e5712bb2b4b",
   "metadata": {},
   "outputs": [
    {
     "name": "stdout",
     "output_type": "stream",
     "text": [
      "RandomizeSearchCV results:\n",
      "\n",
      "  1      0.96512, {'weights': 'uniform', 'n_neighbors': 14}\n",
      "  2      0.96216, {'weights': 'uniform', 'n_neighbors': 17}\n",
      "  3      0.98145, {'weights': 'uniform', 'n_neighbors': 5}\n",
      "  4      0.97774, {'weights': 'uniform', 'n_neighbors': 8}\n",
      "  5      0.97625, {'weights': 'distance', 'n_neighbors': 10}\n",
      "  6      0.96809, {'weights': 'uniform', 'n_neighbors': 13}\n",
      "  7      0.96438, {'weights': 'distance', 'n_neighbors': 18}\n",
      "  8      0.97699, {'weights': 'distance', 'n_neighbors': 9}\n",
      "  9      0.97848, {'weights': 'distance', 'n_neighbors': 7}\n",
      " 10 *    0.98220, {'weights': 'distance', 'n_neighbors': 6}\n"
     ]
    }
   ],
   "source": [
    "print(\"RandomizeSearchCV results:\\n\")\n",
    "for i, (mean, params) in enumerate(zip(search_rand.cv_results_['mean_test_score'], search_rand.cv_results_['params'])):\n",
    "    if search_rand.best_score_ == mean:\n",
    "        print(f' {i+1:2} * {mean:10.5f}, {params}')\n",
    "    else:\n",
    "        print(f' {i+1:2}   {mean:10.5f}, {params}')    "
   ]
  },
  {
   "cell_type": "code",
   "execution_count": null,
   "id": "257f5efc-2976-4149-8f80-d18c61909fb6",
   "metadata": {},
   "outputs": [],
   "source": []
  }
 ],
 "metadata": {
  "kernelspec": {
   "display_name": "Python 3 (ipykernel)",
   "language": "python",
   "name": "python3"
  },
  "language_info": {
   "codemirror_mode": {
    "name": "ipython",
    "version": 3
   },
   "file_extension": ".py",
   "mimetype": "text/x-python",
   "name": "python",
   "nbconvert_exporter": "python",
   "pygments_lexer": "ipython3",
   "version": "3.9.12"
  }
 },
 "nbformat": 4,
 "nbformat_minor": 5
}
