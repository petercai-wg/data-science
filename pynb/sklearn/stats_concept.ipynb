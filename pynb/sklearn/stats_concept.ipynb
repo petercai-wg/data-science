{
 "cells": [
  {
   "cell_type": "markdown",
   "id": "68212531-9282-4c71-a3e8-80b400f6e293",
   "metadata": {},
   "source": [
    "###  standard Deviation"
   ]
  },
  {
   "cell_type": "code",
   "execution_count": 2,
   "id": "368a06bf-2af6-46f3-81f9-6f4b2d8bc77d",
   "metadata": {},
   "outputs": [],
   "source": [
    "import matplotlib.pyplot as plt\n",
    "import numpy as np\n",
    "\n"
   ]
  },
  {
   "cell_type": "code",
   "execution_count": 22,
   "id": "03b921c1-1149-45ed-8ce8-af4caea172a0",
   "metadata": {},
   "outputs": [
    {
     "name": "stdout",
     "output_type": "stream",
     "text": [
      "<class 'numpy.ndarray'>\n",
      "0.024298788442463994\n",
      "1.0025479890654316\n"
     ]
    }
   ],
   "source": [
    "rng = np.random.RandomState(1)\n",
    "\n",
    "data = rng.randn(5000) \n",
    "print(type(data))\n",
    "print(data.mean())\n",
    "print(data.std())"
   ]
  },
  {
   "cell_type": "code",
   "execution_count": null,
   "id": "1c1eac29-92e0-4fa5-9b57-e33d1a134c75",
   "metadata": {},
   "outputs": [],
   "source": []
  },
  {
   "cell_type": "code",
   "execution_count": 4,
   "id": "70bc4ab2-efc2-4c19-be3a-663fe7aebd87",
   "metadata": {},
   "outputs": [
    {
     "data": {
      "text/plain": [
       "(array([ 2.,  0.,  4., 12.,  9.,  7.,  5.,  5.,  3.,  3.]),\n",
       " array([-2.3015387 , -1.86135931, -1.42117993, -0.98100055, -0.54082116,\n",
       "        -0.10064178,  0.3395376 ,  0.77971699,  1.21989637,  1.66007575,\n",
       "         2.10025514]),\n",
       " <BarContainer object of 10 artists>)"
      ]
     },
     "execution_count": 4,
     "metadata": {},
     "output_type": "execute_result"
    },
    {
     "data": {
      "image/png": "[encoded data removed]",
      "text/plain": [
       "<Figure size 432x288 with 1 Axes>"
      ]
     },
     "metadata": {
      "needs_background": "light"
     },
     "output_type": "display_data"
    }
   ],
   "source": [
    "plt.hist(data)"
   ]
  },
  {
   "cell_type": "code",
   "execution_count": 94,
   "id": "b179554e-cdde-4775-ab90-037035a1998d",
   "metadata": {},
   "outputs": [],
   "source": [
    "import math\n",
    "def mySTD( dataList ):\n",
    "    _mean = sum(dataList) / len(dataList)\n",
    "    _sqrerr = sum ( ((x - _mean) **2 )  for x in dataList)\n",
    "    _var =  _sqrerr / len(dataList) \n",
    "    st_dev = math.sqrt(_var)\n",
    "    \n",
    "    _var1 = _sqrerr / ( len(dataList) -1 ) \n",
    "    st_dev1 = math.sqrt(_var1)\n",
    "\n",
    "    _var2 = _sqrerr / ( len(dataList) -2 ) \n",
    "    st_dev2 = math.sqrt(_var2)\n",
    "\n",
    "    # print(f\" mean {_mean:f}\")\n",
    "    # print(f\" Standard Dev {st_dev:f}\")\n",
    "    return(st_dev, _mean, st_dev1, st_dev2)\n",
    "          \n",
    "    \n",
    "    "
   ]
  },
  {
   "cell_type": "code",
   "execution_count": null,
   "id": "9028ffa3-f502-41b4-970a-f2c8a51f4f2f",
   "metadata": {},
   "outputs": [],
   "source": [
    "## Calulate std and mean by myself"
   ]
  },
  {
   "cell_type": "code",
   "execution_count": 97,
   "id": "28dfbf08-e4ab-46cb-a9af-75d61453e21e",
   "metadata": {},
   "outputs": [
    {
     "data": {
      "text/plain": [
       "(1.0025479890654316,\n",
       " 0.024298788442464015,\n",
       " 1.0026482589050647,\n",
       " 1.002748558836182)"
      ]
     },
     "execution_count": 97,
     "metadata": {},
     "output_type": "execute_result"
    }
   ],
   "source": [
    "mySTD(data)"
   ]
  },
  {
   "cell_type": "code",
   "execution_count": 99,
   "id": "34577c98-ee71-4cb8-a72e-b7e8335dae96",
   "metadata": {},
   "outputs": [
    {
     "name": "stdout",
     "output_type": "stream",
     "text": [
      "1.0001153109777163\n",
      "0.024011798464955488\n",
      "1.0017863485857446\n",
      "1.0034657904162017\n"
     ]
    }
   ],
   "source": [
    "import collections, operator\n",
    "# RunResult = collections.namedtuple('RunResult', 'std ave')\n",
    "\n",
    "mean_list = []\n",
    "std_list = []\n",
    "std1_list = []\n",
    "std2_list = []\n",
    "for lp in range(10000):\n",
    "    sample_data = np.random.choice(data, size=300)\n",
    "    std, ave, std1 , std2 =mySTD(sample_data)\n",
    "    mean_list.append(ave)\n",
    "    std_list.append(std)\n",
    "    std1_list.append(std1)\n",
    "    std2_list.append(std2)\n",
    "\n",
    "\n",
    "### if we take many sample test, calcuate sample mean and sample std\n",
    "###  average sample mean is very close to population mean,\n",
    "### however average sample std is LESS than population std\n",
    "###  so have to compensate by dived by n-1, n-2 is over compensate\n",
    "\n",
    "\n",
    "print(sum(std_list) / len(std_list))    \n",
    "print(sum(mean_list) / len(mean_list))    \n",
    "print(sum(std1_list) / len(std1_list))    \n",
    "print(sum(std2_list) / len(std2_list))    \n",
    "    "
   ]
  },
  {
   "cell_type": "markdown",
   "id": "c838e820-1aef-4a97-8870-d94dab277a4e",
   "metadata": {},
   "source": [
    "## Log transformation"
   ]
  },
  {
   "cell_type": "code",
   "execution_count": 1,
   "id": "66df639f-45fc-4e1d-9122-59a13c2e4b7a",
   "metadata": {},
   "outputs": [],
   "source": [
    "import numpy as np"
   ]
  },
  {
   "cell_type": "code",
   "execution_count": 2,
   "id": "bdd3e8ff-f197-49da-a782-13546c6a7300",
   "metadata": {},
   "outputs": [],
   "source": [
    "small_data = np.random.randint(0, 100, 20)"
   ]
  },
  {
   "cell_type": "code",
   "execution_count": 3,
   "id": "db4b9558-1269-40a8-bf32-884badb762c9",
   "metadata": {},
   "outputs": [
    {
     "name": "stdout",
     "output_type": "stream",
     "text": [
      "[67  6 35  5 96 65 55 87 92  7 19  5 66  3 20 45 61  3 50 31]\n"
     ]
    }
   ],
   "source": [
    "print(small_data)"
   ]
  },
  {
   "cell_type": "code",
   "execution_count": 4,
   "id": "e7a4f510-a6d1-4f38-973e-f97c1bfac27c",
   "metadata": {},
   "outputs": [
    {
     "data": {
      "text/plain": [
       "array([6, 0, 3, 0, 9, 6, 5, 8, 9, 0, 1, 0, 6, 0, 2, 4, 6, 0, 5, 3],\n",
       "      dtype=int32)"
      ]
     },
     "execution_count": 4,
     "metadata": {},
     "output_type": "execute_result"
    }
   ],
   "source": [
    "## map to 9 bins by dividion\n",
    "np.floor_divide(small_data, 10)"
   ]
  },
  {
   "cell_type": "code",
   "execution_count": 16,
   "id": "00be39b0-b3c7-478d-98b7-11ff49c8af75",
   "metadata": {},
   "outputs": [],
   "source": [
    "##  create an array span serverla magnitudes\n",
    "\n",
    "large_data =  [296, 8286, 64011, 80, 3, 725, 867, 2215, 7689, 11495, 91897, 44, 28, 7971, 926, 122, 22222]"
   ]
  },
  {
   "cell_type": "code",
   "execution_count": 17,
   "id": "1760bca4-774a-48f2-b596-c54c522222fc",
   "metadata": {},
   "outputs": [
    {
     "data": {
      "text/plain": [
       "array([2., 3., 4., 1., 0., 2., 2., 3., 3., 4., 4., 1., 1., 3., 2., 2., 4.])"
      ]
     },
     "execution_count": 17,
     "metadata": {},
     "output_type": "execute_result"
    }
   ],
   "source": [
    "# Map to exponential-width bins via the log function\n",
    "np.floor(np.log10(large_data))"
   ]
  },
  {
   "cell_type": "markdown",
   "id": "3a88416a-61e8-4695-9c9a-d5ab58a2c95c",
   "metadata": {},
   "source": [
    "## The log function is the inverse of the exponential function. \n",
    " -  log function maps the small range of numbers between (0, 1) to the entire range of negative numbers (–∞, 0) \n",
    " -  log function compresses the range of large numbers and expands therange of small numbers. The larger x is, the slower log(x) increments\n",
    " -  log transform is a powerful tool for dealing with positive numbers with a heavy tailed distribution. \n",
    " "
   ]
  },
  {
   "cell_type": "code",
   "execution_count": null,
   "id": "679e40f9-7073-44fc-8273-b68883eca869",
   "metadata": {},
   "outputs": [],
   "source": []
  },
  {
   "cell_type": "code",
   "execution_count": null,
   "id": "b6fe1cd8-6a7d-4eef-84d2-65269388252d",
   "metadata": {},
   "outputs": [],
   "source": []
  },
  {
   "cell_type": "code",
   "execution_count": null,
   "id": "c0b4ef00-8c1c-40e7-a3ff-fc684f82aab5",
   "metadata": {},
   "outputs": [],
   "source": []
  },
  {
   "cell_type": "code",
   "execution_count": null,
   "id": "6824e0d2-f405-403a-a63d-2e34209763c3",
   "metadata": {},
   "outputs": [],
   "source": []
  },
  {
   "cell_type": "code",
   "execution_count": null,
   "id": "dbd1fd96-82ae-404b-8308-77a5b313e020",
   "metadata": {},
   "outputs": [],
   "source": []
  },
  {
   "cell_type": "code",
   "execution_count": null,
   "id": "90e1a140-879c-4c5f-96c6-946cb99e0115",
   "metadata": {},
   "outputs": [],
   "source": []
  },
  {
   "cell_type": "code",
   "execution_count": null,
   "id": "a26d5a45-cfeb-4992-98a3-3d62fcebd8a9",
   "metadata": {},
   "outputs": [],
   "source": []
  },
  {
   "cell_type": "code",
   "execution_count": null,
   "id": "1557f69a-0919-4548-abaa-ba6b52699bf8",
   "metadata": {},
   "outputs": [],
   "source": []
  },
  {
   "cell_type": "code",
   "execution_count": null,
   "id": "b720ed82-5ba1-40a2-b9d8-80ce8dbcffa2",
   "metadata": {},
   "outputs": [],
   "source": []
  },
  {
   "cell_type": "code",
   "execution_count": null,
   "id": "6e70c013-3b4d-4046-bbc6-b86ccf8b8bdd",
   "metadata": {},
   "outputs": [],
   "source": []
  },
  {
   "cell_type": "code",
   "execution_count": null,
   "id": "3f547ff7-35db-4349-9111-8406d82a6a18",
   "metadata": {},
   "outputs": [],
   "source": []
  }
 ],
 "metadata": {
  "kernelspec": {
   "display_name": "Python 3 (ipykernel)",
   "language": "python",
   "name": "python3"
  },
  "language_info": {
   "codemirror_mode": {
    "name": "ipython",
    "version": 3
   },
   "file_extension": ".py",
   "mimetype": "text/x-python",
   "name": "python",
   "nbconvert_exporter": "python",
   "pygments_lexer": "ipython3",
   "version": "3.9.12"
  }
 },
 "nbformat": 4,
 "nbformat_minor": 5
}
