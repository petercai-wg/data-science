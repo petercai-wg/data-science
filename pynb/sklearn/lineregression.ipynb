{
 "cells": [
  {
   "cell_type": "markdown",
   "id": "2da1bb6a-65e8-4095-bd50-219b436afc16",
   "metadata": {},
   "source": [
    "#### Linear Regression Example\n",
    "##### Single variabe linear regression\n",
    " "
   ]
  },
  {
   "cell_type": "code",
   "execution_count": 1,
   "id": "679be2a1-0974-4066-a917-dbb04f1978b2",
   "metadata": {},
   "outputs": [],
   "source": [
    "import matplotlib.pyplot as plt\n",
    "import numpy as np\n"
   ]
  },
  {
   "cell_type": "code",
   "execution_count": 7,
   "id": "75415f8f-9767-441e-9d54-ffd7071a8127",
   "metadata": {},
   "outputs": [
    {
     "name": "stdout",
     "output_type": "stream",
     "text": [
      "(50,)\n"
     ]
    },
    {
     "data": {
      "text/plain": [
       "(0.0, 50.0)"
      ]
     },
     "execution_count": 7,
     "metadata": {},
     "output_type": "execute_result"
    },
    {
     "data": {
      "image/png": "[encoded data removed]",
      "text/plain": [
       "<Figure size 432x288 with 1 Axes>"
      ]
     },
     "metadata": {
      "needs_background": "light"
     },
     "output_type": "display_data"
    }
   ],
   "source": [
    "### y = b0 + b1 * x1\n",
    "##  b0 intercepter, b1 slope\n",
    "b1 = 1.7\n",
    "b0 = 2.6\n",
    "\n",
    "rng = np.random.RandomState(1)\n",
    "\n",
    "### random 50 number from 1 to 20\n",
    "x = rng.randint(1, 20, 50) \n",
    "print(x.shape)\n",
    "\n",
    "##  create some noice by rng.rand(50)\n",
    "y = b1 * x + rng.randn(50) + b0 \n",
    "\n",
    "plt.scatter(x, y)\n",
    "plt.xticks(range(20))\n",
    "plt.xlim([0,20])\n",
    "plt.ylim([0,50])\n"
   ]
  },
  {
   "cell_type": "code",
   "execution_count": 9,
   "id": "fb9af4fe-2fc1-456a-93cd-411c2e989731",
   "metadata": {},
   "outputs": [
    {
     "name": "stdout",
     "output_type": "stream",
     "text": [
      "intercept: 3.1560218768366255,  b0: 2.6\n",
      "coefficient: [1.66290078],  slop b1 : 1.7\n"
     ]
    }
   ],
   "source": [
    "## training fit\n",
    "from sklearn.linear_model import LinearRegression\n",
    "\n",
    "model = LinearRegression(fit_intercept=True)\n",
    "\n",
    "X = x[:, np.newaxis]\n",
    "\n",
    "# step 1: training\n",
    "model.fit(X, y) # X is 2d, y is 1d\n",
    "\n",
    "print(f\"intercept: {model.intercept_},  b0: { b0 }\") \n",
    "print(f\"coefficient: {model.coef_},  slop b1 : { b1 }\") "
   ]
  },
  {
   "cell_type": "code",
   "execution_count": 13,
   "id": "b38450fa-396e-491f-b61c-87e7a42c2ea2",
   "metadata": {},
   "outputs": [
    {
     "data": {
      "text/plain": [
       "(0.0, 80.0)"
      ]
     },
     "execution_count": 13,
     "metadata": {},
     "output_type": "execute_result"
    },
    {
     "data": {
      "image/png": "[encoded data removed]",
      "text/plain": [
       "<Figure size 432x288 with 1 Axes>"
      ]
     },
     "metadata": {
      "needs_background": "light"
     },
     "output_type": "display_data"
    }
   ],
   "source": [
    "# step2: prediction\n",
    "xfit = np.arange(30) # 1 to 10, array\n",
    "Xfit = xfit[:, np.newaxis] # 2d \n",
    "\n",
    "yfit = model.predict(Xfit) # Xfit must be a 2d, yfit output is 1d\n",
    "\n",
    "plt.scatter(x, y,)  # training points\n",
    "\n",
    "plt.plot(xfit, yfit, color='red')\n",
    "\n",
    "plt.xticks(range(30))\n",
    "plt.xlim([0,30])\n",
    "plt.ylim([0,80])"
   ]
  },
  {
   "cell_type": "code",
   "execution_count": null,
   "id": "9e6f7daa-6949-4d39-84d6-c38807386279",
   "metadata": {},
   "outputs": [],
   "source": []
  },
  {
   "cell_type": "code",
   "execution_count": null,
   "id": "a5ad3b74-0f05-42d4-b8d3-9d86f0e10ec1",
   "metadata": {},
   "outputs": [],
   "source": []
  },
  {
   "cell_type": "code",
   "execution_count": null,
   "id": "00dbd7bf-0259-4c2f-8014-7114ffb3a9d0",
   "metadata": {},
   "outputs": [],
   "source": []
  },
  {
   "cell_type": "code",
   "execution_count": null,
   "id": "24d79bed-637a-437d-8312-1c09a87ffdb9",
   "metadata": {},
   "outputs": [],
   "source": []
  },
  {
   "cell_type": "code",
   "execution_count": null,
   "id": "c8c3ae96-6c51-430e-a57c-af9d4bbfbf11",
   "metadata": {},
   "outputs": [],
   "source": []
  },
  {
   "cell_type": "code",
   "execution_count": null,
   "id": "adce8d08-6f42-4e3d-9f9f-f0365c3d475b",
   "metadata": {},
   "outputs": [],
   "source": []
  },
  {
   "cell_type": "code",
   "execution_count": null,
   "id": "c88278ee-011e-49e1-8217-df840dc95b6f",
   "metadata": {},
   "outputs": [],
   "source": []
  },
  {
   "cell_type": "code",
   "execution_count": null,
   "id": "034ac5e3-82db-4688-9f54-c9347439e766",
   "metadata": {},
   "outputs": [],
   "source": []
  },
  {
   "cell_type": "code",
   "execution_count": null,
   "id": "2b7118a8-c0b1-46db-80aa-10a96b311b3e",
   "metadata": {},
   "outputs": [],
   "source": []
  },
  {
   "cell_type": "code",
   "execution_count": null,
   "id": "3eba79df-47fb-4009-8e3e-83a73f454ed5",
   "metadata": {},
   "outputs": [],
   "source": []
  }
 ],
 "metadata": {
  "kernelspec": {
   "display_name": "Python 3 (ipykernel)",
   "language": "python",
   "name": "python3"
  },
  "language_info": {
   "codemirror_mode": {
    "name": "ipython",
    "version": 3
   },
   "file_extension": ".py",
   "mimetype": "text/x-python",
   "name": "python",
   "nbconvert_exporter": "python",
   "pygments_lexer": "ipython3",
   "version": "3.9.12"
  }
 },
 "nbformat": 4,
 "nbformat_minor": 5
}
