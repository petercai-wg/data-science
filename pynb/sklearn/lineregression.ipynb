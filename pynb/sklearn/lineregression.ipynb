{
 "cells": [
  {
   "cell_type": "markdown",
   "id": "2da1bb6a-65e8-4095-bd50-219b436afc16",
   "metadata": {},
   "source": [
    "#### Linear Regression Example\n",
    "##### Single variabe linear regression\n",
    " "
   ]
  },
  {
   "cell_type": "code",
   "execution_count": 1,
   "id": "679be2a1-0974-4066-a917-dbb04f1978b2",
   "metadata": {},
   "outputs": [],
   "source": [
    "import matplotlib.pyplot as plt\n",
    "import numpy as np\n"
   ]
  },
  {
   "cell_type": "code",
   "execution_count": 7,
   "id": "75415f8f-9767-441e-9d54-ffd7071a8127",
   "metadata": {},
   "outputs": [
    {
     "name": "stdout",
     "output_type": "stream",
     "text": [
      "(50,)\n"
     ]
    },
    {
     "data": {
      "text/plain": [
       "(0.0, 50.0)"
      ]
     },
     "execution_count": 7,
     "metadata": {},
     "output_type": "execute_result"
    },
    {
     "data": {
      "image/png": "[encoded data removed]",
      "text/plain": [
       "<Figure size 432x288 with 1 Axes>"
      ]
     },
     "metadata": {
      "needs_background": "light"
     },
     "output_type": "display_data"
    }
   ],
   "source": [
    "### y = b0 + b1 * x1\n",
    "##  b0 intercepter, b1 slope\n",
    "b1 = 1.7\n",
    "b0 = 2.6\n",
    "\n",
    "rng = np.random.RandomState(1)\n",
    "\n",
    "### random 50 number from 1 to 20\n",
    "x = rng.randint(1, 20, 50) \n",
    "print(x.shape)\n",
    "\n",
    "##  create some noice by rng.rand(50)\n",
    "y = b1 * x + rng.randn(50) + b0 \n",
    "\n",
    "plt.scatter(x, y)\n",
    "plt.xticks(range(20))\n",
    "plt.xlim([0,20])\n",
    "plt.ylim([0,50])\n"
   ]
  },
  {
   "cell_type": "code",
   "execution_count": 9,
   "id": "fb9af4fe-2fc1-456a-93cd-411c2e989731",
   "metadata": {},
   "outputs": [
    {
     "name": "stdout",
     "output_type": "stream",
     "text": [
      "intercept: 3.1560218768366255,  b0: 2.6\n",
      "coefficient: [1.66290078],  slop b1 : 1.7\n"
     ]
    }
   ],
   "source": [
    "## training fit\n",
    "from sklearn.linear_model import LinearRegression\n",
    "\n",
    "model = LinearRegression(fit_intercept=True)\n",
    "\n",
    "X = x[:, np.newaxis]\n",
    "\n",
    "# step 1: training\n",
    "model.fit(X, y) # X is 2d, y is 1d\n",
    "\n",
    "print(f\"intercept: {model.intercept_},  b0: { b0 }\") \n",
    "print(f\"coefficient: {model.coef_},  slop b1 : { b1 }\") "
   ]
  },
  {
   "cell_type": "code",
   "execution_count": 13,
   "id": "b38450fa-396e-491f-b61c-87e7a42c2ea2",
   "metadata": {},
   "outputs": [
    {
     "data": {
      "text/plain": [
       "(0.0, 80.0)"
      ]
     },
     "execution_count": 13,
     "metadata": {},
     "output_type": "execute_result"
    },
    {
     "data": {
      "image/png": "[encoded data removed]",
      "text/plain": [
       "<Figure size 432x288 with 1 Axes>"
      ]
     },
     "metadata": {
      "needs_background": "light"
     },
     "output_type": "display_data"
    }
   ],
   "source": [
    "# step2: prediction\n",
    "xfit = np.arange(30) # 1 to 10, array\n",
    "Xfit = xfit[:, np.newaxis] # 2d \n",
    "\n",
    "yfit = model.predict(Xfit) # Xfit must be a 2d, yfit output is 1d\n",
    "\n",
    "plt.scatter(x, y,)  # training points\n",
    "\n",
    "plt.plot(xfit, yfit, color='red')\n",
    "\n",
    "plt.xticks(range(30))\n",
    "plt.xlim([0,30])\n",
    "plt.ylim([0,80])"
   ]
  },
  {
   "cell_type": "markdown",
   "id": "d344e9c0-b823-4c82-86f3-542ddf683d51",
   "metadata": {},
   "source": [
    "\n",
    "##  linear_model.LinearRegression\n"
   ]
  },
  {
   "cell_type": "code",
   "execution_count": null,
   "id": "4d77ed2f-403e-4052-ad6e-7aa9e2950671",
   "metadata": {},
   "outputs": [],
   "source": [
    "##  class sklearn.linear_model.LinearRegression (fit_intercept=True, normalize=False, copy_X=True,n_jobs=None)"
   ]
  },
  {
   "cell_type": "code",
   "execution_count": 1,
   "id": "a5ad3b74-0f05-42d4-b8d3-9d86f0e10ec1",
   "metadata": {},
   "outputs": [
    {
     "data": {
      "text/html": [
       "<div>\n",
       "<style scoped>\n",
       "    .dataframe tbody tr th:only-of-type {\n",
       "        vertical-align: middle;\n",
       "    }\n",
       "\n",
       "    .dataframe tbody tr th {\n",
       "        vertical-align: top;\n",
       "    }\n",
       "\n",
       "    .dataframe thead th {\n",
       "        text-align: right;\n",
       "    }\n",
       "</style>\n",
       "<table border=\"1\" class=\"dataframe\">\n",
       "  <thead>\n",
       "    <tr style=\"text-align: right;\">\n",
       "      <th></th>\n",
       "      <th>CRIM</th>\n",
       "      <th>ZN</th>\n",
       "      <th>INDUS</th>\n",
       "      <th>CHAS</th>\n",
       "      <th>NOX</th>\n",
       "      <th>RM</th>\n",
       "      <th>AGE</th>\n",
       "      <th>DIS</th>\n",
       "      <th>RAD</th>\n",
       "      <th>TAX</th>\n",
       "      <th>PTRATIO</th>\n",
       "      <th>B</th>\n",
       "      <th>LSTAT</th>\n",
       "      <th>PRICE</th>\n",
       "    </tr>\n",
       "  </thead>\n",
       "  <tbody>\n",
       "    <tr>\n",
       "      <th>0</th>\n",
       "      <td>0.00632</td>\n",
       "      <td>18.0</td>\n",
       "      <td>2.31</td>\n",
       "      <td>0.0</td>\n",
       "      <td>0.538</td>\n",
       "      <td>6.575</td>\n",
       "      <td>65.2</td>\n",
       "      <td>4.0900</td>\n",
       "      <td>1.0</td>\n",
       "      <td>296.0</td>\n",
       "      <td>15.3</td>\n",
       "      <td>396.90</td>\n",
       "      <td>4.98</td>\n",
       "      <td>24.0</td>\n",
       "    </tr>\n",
       "    <tr>\n",
       "      <th>1</th>\n",
       "      <td>0.02731</td>\n",
       "      <td>0.0</td>\n",
       "      <td>7.07</td>\n",
       "      <td>0.0</td>\n",
       "      <td>0.469</td>\n",
       "      <td>6.421</td>\n",
       "      <td>78.9</td>\n",
       "      <td>4.9671</td>\n",
       "      <td>2.0</td>\n",
       "      <td>242.0</td>\n",
       "      <td>17.8</td>\n",
       "      <td>396.90</td>\n",
       "      <td>9.14</td>\n",
       "      <td>21.6</td>\n",
       "    </tr>\n",
       "    <tr>\n",
       "      <th>2</th>\n",
       "      <td>0.02729</td>\n",
       "      <td>0.0</td>\n",
       "      <td>7.07</td>\n",
       "      <td>0.0</td>\n",
       "      <td>0.469</td>\n",
       "      <td>7.185</td>\n",
       "      <td>61.1</td>\n",
       "      <td>4.9671</td>\n",
       "      <td>2.0</td>\n",
       "      <td>242.0</td>\n",
       "      <td>17.8</td>\n",
       "      <td>392.83</td>\n",
       "      <td>4.03</td>\n",
       "      <td>34.7</td>\n",
       "    </tr>\n",
       "    <tr>\n",
       "      <th>3</th>\n",
       "      <td>0.03237</td>\n",
       "      <td>0.0</td>\n",
       "      <td>2.18</td>\n",
       "      <td>0.0</td>\n",
       "      <td>0.458</td>\n",
       "      <td>6.998</td>\n",
       "      <td>45.8</td>\n",
       "      <td>6.0622</td>\n",
       "      <td>3.0</td>\n",
       "      <td>222.0</td>\n",
       "      <td>18.7</td>\n",
       "      <td>394.63</td>\n",
       "      <td>2.94</td>\n",
       "      <td>33.4</td>\n",
       "    </tr>\n",
       "    <tr>\n",
       "      <th>4</th>\n",
       "      <td>0.06905</td>\n",
       "      <td>0.0</td>\n",
       "      <td>2.18</td>\n",
       "      <td>0.0</td>\n",
       "      <td>0.458</td>\n",
       "      <td>7.147</td>\n",
       "      <td>54.2</td>\n",
       "      <td>6.0622</td>\n",
       "      <td>3.0</td>\n",
       "      <td>222.0</td>\n",
       "      <td>18.7</td>\n",
       "      <td>396.90</td>\n",
       "      <td>5.33</td>\n",
       "      <td>36.2</td>\n",
       "    </tr>\n",
       "  </tbody>\n",
       "</table>\n",
       "</div>"
      ],
      "text/plain": [
       "      CRIM    ZN  INDUS  CHAS    NOX     RM   AGE     DIS  RAD    TAX  \\\n",
       "0  0.00632  18.0   2.31   0.0  0.538  6.575  65.2  4.0900  1.0  296.0   \n",
       "1  0.02731   0.0   7.07   0.0  0.469  6.421  78.9  4.9671  2.0  242.0   \n",
       "2  0.02729   0.0   7.07   0.0  0.469  7.185  61.1  4.9671  2.0  242.0   \n",
       "3  0.03237   0.0   2.18   0.0  0.458  6.998  45.8  6.0622  3.0  222.0   \n",
       "4  0.06905   0.0   2.18   0.0  0.458  7.147  54.2  6.0622  3.0  222.0   \n",
       "\n",
       "   PTRATIO       B  LSTAT  PRICE  \n",
       "0     15.3  396.90   4.98   24.0  \n",
       "1     17.8  396.90   9.14   21.6  \n",
       "2     17.8  392.83   4.03   34.7  \n",
       "3     18.7  394.63   2.94   33.4  \n",
       "4     18.7  396.90   5.33   36.2  "
      ]
     },
     "execution_count": 1,
     "metadata": {},
     "output_type": "execute_result"
    }
   ],
   "source": [
    "import json\n",
    "with open(\"boston_house.json\", 'r') as openfile:\n",
    "    boston = json.load(openfile)\n",
    "\n",
    "import pandas as pd\n",
    "df = pd.DataFrame(boston['data'], columns=boston['feature_names']) \n",
    "df['PRICE'] = boston['target']\n",
    "df.head()"
   ]
  },
  {
   "cell_type": "code",
   "execution_count": 11,
   "id": "00dbd7bf-0259-4c2f-8014-7114ffb3a9d0",
   "metadata": {},
   "outputs": [],
   "source": [
    "from sklearn.linear_model import LinearRegression\n",
    "\n",
    "from sklearn.model_selection import train_test_split\n",
    "from sklearn.model_selection import cross_val_score\n"
   ]
  },
  {
   "cell_type": "code",
   "execution_count": 61,
   "id": "24d79bed-637a-437d-8312-1c09a87ffdb9",
   "metadata": {},
   "outputs": [
    {
     "data": {
      "text/plain": [
       "(506, 13)"
      ]
     },
     "execution_count": 61,
     "metadata": {},
     "output_type": "execute_result"
    }
   ],
   "source": [
    "X = pd.DataFrame(boston['data'], columns=boston['feature_names'])\n",
    "y = df['PRICE']       \n",
    "                 \n",
    "X.shape                 "
   ]
  },
  {
   "cell_type": "code",
   "execution_count": 21,
   "id": "c8c3ae96-6c51-430e-a57c-af9d4bbfbf11",
   "metadata": {},
   "outputs": [],
   "source": [
    "Xtrain, Xtest, Ytrain, Ytest = train_test_split(X,y,test_size=0.3,random_state=420 )"
   ]
  },
  {
   "cell_type": "code",
   "execution_count": 25,
   "id": "0c73043c-e7fd-4b8e-9f83-d62509c9558c",
   "metadata": {},
   "outputs": [
    {
     "name": "stdout",
     "output_type": "stream",
     "text": [
      "(354, 13) (354,)\n"
     ]
    }
   ],
   "source": [
    "for i in [Xtrain, Xtest]:\n",
    "    i.index = range(i.shape[0])\n",
    "    \n",
    "print(Xtrain.shape, Ytrain.shape )"
   ]
  },
  {
   "cell_type": "code",
   "execution_count": 27,
   "id": "adce8d08-6f42-4e3d-9f9f-f0365c3d475b",
   "metadata": {},
   "outputs": [
    {
     "data": {
      "text/plain": [
       "array([ 8.91558391, 25.55486537, 29.74155255, 12.12945145,  6.43668754,\n",
       "       21.39319329, 12.75310165, 17.24496996, 17.15344019, 13.10963383,\n",
       "       22.83222588, 34.54734996, 20.53504518, 31.24735721, 22.13664807,\n",
       "       13.17602085,  6.32280031, 28.96467423, 28.82286122, 30.56714102,\n",
       "       20.51563911, 16.87715871, 25.39068188, 24.35431683, 20.7699537 ,\n",
       "       13.63797749, 24.54344494, 19.85583948, 26.14184762, 20.08788971,\n",
       "       33.13679454, 22.6950751 , 23.51238177, 25.10562854, 27.43104486,\n",
       "       26.69863725, 12.59476455, 25.74808424, 19.49906272, 33.78183831,\n",
       "       17.1876663 , 20.43701142, 32.58810206, 19.40788713,  8.50383004,\n",
       "       31.30745564, 45.0313267 , 18.0494481 , 16.65134753, 35.84403485,\n",
       "       27.79866726, 24.15231093, 20.05037188, 40.86609635, 33.21157772,\n",
       "       27.67956144, 17.94177656, 23.31713349, 15.98940611, 18.91144811,\n",
       "       18.48313192, 27.59270983, 17.5227453 , 32.75684359, 30.78735489,\n",
       "       22.25703735, 23.31188035, 16.28667924, 23.85686338, 18.32550033,\n",
       "       28.27723519, 35.12470723, 31.3876531 , 25.43945946, 20.80036454,\n",
       "       24.66116865, 40.04165451, 31.33889413, 24.5762082 , 22.24453791,\n",
       "       18.73922023, 42.54629562, 25.73964585,  7.12379407, 28.14381301,\n",
       "       26.15605133, 15.3854926 , 21.85735484, 18.33210679,  2.37829383,\n",
       "       23.51429434, 20.78455236, 36.53863521, 33.56774235, 25.21986989,\n",
       "       18.42206038, 10.63401506, 21.84107115, 11.17832088, 13.34536072,\n",
       "       36.52967802, 12.59967064, 29.19671027, 27.26262894, 35.04141101,\n",
       "       37.45064264, 23.37281184, 12.8842416 , 25.23428107, 13.97043278,\n",
       "       41.13197119, 18.22345466, 22.15374576, 29.32434423, 18.7364264 ,\n",
       "       34.20860374, 26.08458536, 19.72726903, 40.52308378, 16.9025568 ,\n",
       "       25.708764  , 22.7219268 , 18.70783619, 14.34887851, 13.78517049,\n",
       "       24.1651529 , 32.57109872, 13.59765183, 22.10062549, 19.97361488,\n",
       "       19.30616649, 20.12783218, -3.03834072, 31.81853005, 30.87056273,\n",
       "       21.36032261, 20.86407642,  8.47019999,  6.85214006, 14.08097512,\n",
       "       35.35200908, 17.46274807, 23.40886101, 22.60377315, 33.16855573,\n",
       "       19.63058573, 18.26886169, 23.26146365, 25.32824372, 23.05310506,\n",
       "       13.40046739, 25.86769922])"
      ]
     },
     "execution_count": 27,
     "metadata": {},
     "output_type": "execute_result"
    }
   ],
   "source": [
    "lr = LinearRegression().fit(Xtrain, Ytrain)\n",
    "\n",
    "yhat = lr.predict(Xtest)\n",
    "##  print predict test point result y hat\n",
    "yhat"
   ]
  },
  {
   "cell_type": "markdown",
   "id": "213c61b6-a74c-45c1-936b-3b2e22cb9df2",
   "metadata": {},
   "source": [
    "###  Look at the liner model"
   ]
  },
  {
   "cell_type": "code",
   "execution_count": 28,
   "id": "6e000182-25b9-4294-b20c-e0907c76c3c2",
   "metadata": {},
   "outputs": [
    {
     "data": {
      "text/plain": [
       "array([-5.91360708e-02,  3.59005764e-02, -1.75848489e-02,  3.49991909e+00,\n",
       "       -1.59154518e+01,  3.87516690e+00,  5.92507608e-03, -1.24195876e+00,\n",
       "        3.20724778e-01, -1.38381096e-02, -9.18096657e-01,  1.19200101e-02,\n",
       "       -5.13678354e-01])"
      ]
     },
     "execution_count": 28,
     "metadata": {},
     "output_type": "execute_result"
    }
   ],
   "source": [
    "lr.coef_"
   ]
  },
  {
   "cell_type": "code",
   "execution_count": 66,
   "id": "034ac5e3-82db-4688-9f54-c9347439e766",
   "metadata": {},
   "outputs": [
    {
     "data": {
      "text/plain": [
       "[('CRIM', -0.05913607075215423),\n",
       " ('ZN', 0.03590057638687004),\n",
       " ('INDUS', -0.017584848872367186),\n",
       " ('CHAS', 3.499919091188424),\n",
       " ('NOX', -15.915451753184056),\n",
       " ('RM', 3.875166896606913),\n",
       " ('AGE', 0.005925076080656046),\n",
       " ('DIS', -1.241958760118332),\n",
       " ('RAD', 0.3207247782109669),\n",
       " ('TAX', -0.013838109604696409),\n",
       " ('PTRATIO', -0.9180966565961706),\n",
       " ('B', 0.011920010121516363),\n",
       " ('LSTAT', -0.5136783537796983)]"
      ]
     },
     "execution_count": 66,
     "metadata": {},
     "output_type": "execute_result"
    }
   ],
   "source": [
    "[ *zip(Xtrain.columns, lr.coef_) ]"
   ]
  },
  {
   "cell_type": "code",
   "execution_count": 67,
   "id": "f6828d35-5dfd-4b3a-86ed-6a5557b10232",
   "metadata": {},
   "outputs": [
    {
     "data": {
      "text/plain": [
       "<seaborn.axisgrid.PairGrid at 0x2744643ac70>"
      ]
     },
     "execution_count": 67,
     "metadata": {},
     "output_type": "execute_result"
    },
    {
     "data": {
      "image/png": "[encoded data removed]",
      "text/plain": [
       "<Figure size 2340x180 with 13 Axes>"
      ]
     },
     "metadata": {
      "needs_background": "light"
     },
     "output_type": "display_data"
    }
   ],
   "source": [
    "import seaborn as sns\n",
    "sns.pairplot(df, x_vars=boston['feature_names'], y_vars=['PRICE'], kind='reg')"
   ]
  },
  {
   "cell_type": "code",
   "execution_count": null,
   "id": "e5ccef72-8833-44a3-8a77-0e8564d72b70",
   "metadata": {},
   "outputs": [],
   "source": []
  },
  {
   "cell_type": "code",
   "execution_count": null,
   "id": "6daf8183-b876-498e-b5c0-ce09aa53574c",
   "metadata": {},
   "outputs": [],
   "source": [
    "###\n",
    "#### Attribute Information (in order):\n",
    "#### - CRIM     per capita crime rate by town\n",
    "#### - ZN       proportion of residential land zoned for lots over 25,000 sq.ft.\n",
    "#### - INDUS    proportion of non-retail business acres per town\n",
    "#### - CHAS     Charles River dummy variable (= 1 if tract bounds river; 0 otherwise)\n",
    "#### - NOX      nitric oxides concentration (parts per 10 million)\n",
    "#### - RM       average number of rooms per dwelling\n",
    "#### - AGE      proportion of owner-occupied units built prior to 1940\n",
    "#### - DIS      weighted distances to five Boston employment centres\n",
    "#### - RAD      index of accessibility to radial highways\n",
    "#### - TAX      full-value property-tax rate per $10,000\n",
    "#### - PTRATIO  pupil-teacher ratio by town\n",
    "#### - B        1000(Bk - 0.63)^2 where Bk is the proportion of blacks by town\n",
    "#### - LSTAT    % lower status of the population"
   ]
  },
  {
   "cell_type": "code",
   "execution_count": 31,
   "id": "2b7118a8-c0b1-46db-80aa-10a96b311b3e",
   "metadata": {},
   "outputs": [
    {
     "data": {
      "text/plain": [
       "32.9776119322418"
      ]
     },
     "execution_count": 31,
     "metadata": {},
     "output_type": "execute_result"
    }
   ],
   "source": [
    "lr.intercept_"
   ]
  },
  {
   "cell_type": "markdown",
   "id": "4e8a5e3d-02f8-4b34-aaef-87695b90bb8e",
   "metadata": {},
   "source": [
    "### Verify model accuray"
   ]
  },
  {
   "cell_type": "code",
   "execution_count": 32,
   "id": "eaef55b8-efe5-4ecd-adc1-d8f0436c5dba",
   "metadata": {},
   "outputs": [],
   "source": [
    "##  1. MSE  ( Mean Squared Error)  1/n SUM ( ( y -y hat) ^ 2 )"
   ]
  },
  {
   "cell_type": "code",
   "execution_count": 38,
   "id": "3f77c7de-97dc-48b8-b5f9-d9435ef8bb13",
   "metadata": {},
   "outputs": [
    {
     "name": "stdout",
     "output_type": "stream",
     "text": [
      "22.79492305385888\n",
      "50.0 5.0\n"
     ]
    }
   ],
   "source": [
    "from sklearn.metrics import mean_squared_error as MSE\n",
    "\n",
    "print( MSE(yhat,Ytest) )\n",
    "\n"
   ]
  },
  {
   "cell_type": "code",
   "execution_count": 41,
   "id": "e697b3d9-de2a-4f36-b2e6-1eab36f73e86",
   "metadata": {},
   "outputs": [
    {
     "name": "stdout",
     "output_type": "stream",
     "text": [
      "['accuracy', 'adjusted_mutual_info_score', 'adjusted_rand_score', 'average_precision', 'balanced_accuracy', 'completeness_score', 'explained_variance', 'f1', 'f1_macro', 'f1_micro', 'f1_samples', 'f1_weighted', 'fowlkes_mallows_score', 'homogeneity_score', 'jaccard', 'jaccard_macro', 'jaccard_micro', 'jaccard_samples', 'jaccard_weighted', 'max_error', 'mutual_info_score', 'neg_brier_score', 'neg_log_loss', 'neg_mean_absolute_error', 'neg_mean_absolute_percentage_error', 'neg_mean_gamma_deviance', 'neg_mean_poisson_deviance', 'neg_mean_squared_error', 'neg_mean_squared_log_error', 'neg_median_absolute_error', 'neg_root_mean_squared_error', 'normalized_mutual_info_score', 'precision', 'precision_macro', 'precision_micro', 'precision_samples', 'precision_weighted', 'r2', 'rand_score', 'recall', 'recall_macro', 'recall_micro', 'recall_samples', 'recall_weighted', 'roc_auc', 'roc_auc_ovo', 'roc_auc_ovo_weighted', 'roc_auc_ovr', 'roc_auc_ovr_weighted', 'top_k_accuracy', 'v_measure_score']\n"
     ]
    },
    {
     "data": {
      "text/plain": [
       "-34.705255944524936"
      ]
     },
     "execution_count": 41,
     "metadata": {},
     "output_type": "execute_result"
    }
   ],
   "source": [
    "import sklearn\n",
    "print(sorted(sklearn.metrics.SCORERS.keys()))\n",
    "\n",
    "# cross_val_score(lr,X,y,cv=10,scoring=\"mean_squared_error\")\n",
    "\n",
    "cross_val_score(lr,X,y,cv=10,scoring=\"neg_mean_squared_error\").mean()\n",
    "\n"
   ]
  },
  {
   "cell_type": "code",
   "execution_count": 42,
   "id": "acfb8c07-09eb-4a44-aa45-0f8dc8605a20",
   "metadata": {},
   "outputs": [],
   "source": [
    "##  2. MAE ( Mean Absolute ERROR   MAE = 1/n  SUM( abs (y - y hat))"
   ]
  },
  {
   "cell_type": "code",
   "execution_count": 43,
   "id": "57606c0e-33fa-49e0-a4d8-2acbc9527a1d",
   "metadata": {},
   "outputs": [
    {
     "data": {
      "text/plain": [
       "-4.004946635324001"
      ]
     },
     "execution_count": 43,
     "metadata": {},
     "output_type": "execute_result"
    }
   ],
   "source": [
    "cross_val_score(lr,X,y,cv=10,scoring=\"neg_mean_absolute_error\").mean()"
   ]
  },
  {
   "cell_type": "code",
   "execution_count": 44,
   "id": "3eba79df-47fb-4009-8e3e-83a73f454ed5",
   "metadata": {},
   "outputs": [],
   "source": [
    "###  3. R 2\n"
   ]
  },
  {
   "cell_type": "code",
   "execution_count": 46,
   "id": "9e7d84c3-572d-4e6b-80d3-bf69850afd0a",
   "metadata": {},
   "outputs": [
    {
     "name": "stdout",
     "output_type": "stream",
     "text": [
      "0.7550352352974807\n",
      "0.7550352352974807\n"
     ]
    }
   ],
   "source": [
    "\n",
    "from sklearn.metrics import r2_score\n",
    "print ( r2_score( y_true = Ytest,  y_pred = yhat ) )\n",
    "\n",
    "print( lr.score(Xtest,Ytest) )\n"
   ]
  },
  {
   "cell_type": "code",
   "execution_count": 50,
   "id": "e83ef946-a618-4a29-b259-bd266556dbb6",
   "metadata": {},
   "outputs": [
    {
     "data": {
      "text/plain": [
       "0.20252899006055775"
      ]
     },
     "execution_count": 50,
     "metadata": {},
     "output_type": "execute_result"
    }
   ],
   "source": [
    "cross_val_score(lr,X,y,cv=10,scoring=\"r2\").mean()"
   ]
  },
  {
   "cell_type": "code",
   "execution_count": 51,
   "id": "9e853102-9c0c-4ee3-8588-0d5886df71ef",
   "metadata": {},
   "outputs": [],
   "source": [
    "##  plot it"
   ]
  },
  {
   "cell_type": "code",
   "execution_count": 64,
   "id": "de3b47be-fb3b-4686-8837-8045d22ddfbb",
   "metadata": {},
   "outputs": [
    {
     "data": {
      "image/png": "[encoded data removed]",
      "text/plain": [
       "<Figure size 432x288 with 1 Axes>"
      ]
     },
     "metadata": {
      "needs_background": "light"
     },
     "output_type": "display_data"
    }
   ],
   "source": [
    "import matplotlib.pyplot as plt\n",
    "sorted(Ytest)\n",
    "plt.plot(range(len(Ytest)),sorted(Ytest),c=\"black\",label= \"Data\")\n",
    "plt.plot(range(len(yhat)),sorted(yhat),c=\"red\",label = \"Predict\")\n",
    "plt.legend()\n",
    "plt.show()"
   ]
  },
  {
   "cell_type": "code",
   "execution_count": null,
   "id": "427eb3e8-ba52-4f4d-b823-b17ba0675958",
   "metadata": {},
   "outputs": [],
   "source": []
  },
  {
   "cell_type": "code",
   "execution_count": 53,
   "id": "2e66f6ab-ee40-4100-a8ed-241e8e6f9594",
   "metadata": {},
   "outputs": [],
   "source": [
    "## R 2 experiment"
   ]
  },
  {
   "cell_type": "code",
   "execution_count": 1,
   "id": "3aeacda1-1eed-4424-8c9e-823a0a72a753",
   "metadata": {},
   "outputs": [],
   "source": [
    "import numpy as np\n",
    "\n",
    "\n",
    "rng = np.random.RandomState(40)\n",
    "\n",
    "A = rng.randn(100, 80)\n",
    "b = rng.randn(100)\n",
    "\n"
   ]
  },
  {
   "cell_type": "code",
   "execution_count": 2,
   "id": "f5783b30-6e7f-4718-9887-21d2a02a80e6",
   "metadata": {},
   "outputs": [
    {
     "name": "stdout",
     "output_type": "stream",
     "text": [
      "(100, 80) (100,)\n"
     ]
    }
   ],
   "source": [
    "print(A.shape, b.shape)"
   ]
  },
  {
   "cell_type": "code",
   "execution_count": 5,
   "id": "47ea1e3b-b7e5-423e-aa24-b97990b23533",
   "metadata": {},
   "outputs": [
    {
     "data": {
      "text/plain": [
       "array([-21.43339817, -20.4888612 , -67.66423951, -29.40636801,\n",
       "        -8.93346132, -17.05563978, -15.19226547,  -7.15185721,\n",
       "        -4.52203235,  -4.94687165])"
      ]
     },
     "execution_count": 5,
     "metadata": {},
     "output_type": "execute_result"
    }
   ],
   "source": [
    "from sklearn.model_selection import cross_val_score\n",
    "from sklearn.linear_model import LinearRegression\n",
    "\n",
    "cross_val_score( LinearRegression(),A,b,cv=10,scoring=\"r2\")"
   ]
  },
  {
   "cell_type": "code",
   "execution_count": null,
   "id": "20879d4a-7ce8-4768-a7b8-b604a25cf7f2",
   "metadata": {},
   "outputs": [],
   "source": [
    "###  "
   ]
  }
 ],
 "metadata": {
  "kernelspec": {
   "display_name": "Python 3 (ipykernel)",
   "language": "python",
   "name": "python3"
  },
  "language_info": {
   "codemirror_mode": {
    "name": "ipython",
    "version": 3
   },
   "file_extension": ".py",
   "mimetype": "text/x-python",
   "name": "python",
   "nbconvert_exporter": "python",
   "pygments_lexer": "ipython3",
   "version": "3.9.12"
  }
 },
 "nbformat": 4,
 "nbformat_minor": 5
}
