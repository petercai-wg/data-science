{
 "cells": [
  {
   "cell_type": "code",
   "execution_count": 12,
   "id": "67c07251-7a0c-4b4d-a595-4fef1404a9ea",
   "metadata": {},
   "outputs": [
    {
     "name": "stdout",
     "output_type": "stream",
     "text": [
      "[2 3 1 5]\n",
      "[1 2 4 2]\n",
      "[[36. 27.]\n",
      " [25. 17.]\n",
      " [23. 19.]]\n",
      "[[36 27]\n",
      " [25 17]\n",
      " [23 19]]\n"
     ]
    }
   ],
   "source": [
    "import numpy as np\n",
    "x = np.array([ [  1,  2,  3, 5],\n",
    "             [   1 , 4,  1, 2],\n",
    "             [   1 , 3,  2, 2] ])\n",
    "             \n",
    "b = np.array( [ [ 2, 3, 1, 5],  [ 1, 2, 4 , 2] ] )\n",
    "\n",
    "Y = np.zeros((3, 2))\n",
    "\n",
    "\n",
    "# print( np.dot ( x, b.T ))\n",
    "\n",
    "for i  in range(2):\n",
    "    print(b[i])\n",
    "    Y[ :,i]  =  np.dot(x, b[i])\n",
    "    \n",
    "\n",
    "print(Y)\n",
    "    \n",
    "print( np.dot ( x, b.T ))    \n",
    "\n",
    "\n",
    "             "
   ]
  },
  {
   "cell_type": "code",
   "execution_count": 13,
   "id": "f8ce5ff8-01e5-49ab-a814-5bd3255f817f",
   "metadata": {},
   "outputs": [
    {
     "name": "stdout",
     "output_type": "stream",
     "text": [
      "[3 1 1]\n"
     ]
    }
   ],
   "source": [
    "max_indices = np.argmax(x, axis=1)\n",
    "print(max_indices)"
   ]
  },
  {
   "cell_type": "code",
   "execution_count": 16,
   "id": "9b884b4e-86a4-4da5-8928-0db6368e4b29",
   "metadata": {},
   "outputs": [
    {
     "name": "stdout",
     "output_type": "stream",
     "text": [
      "[5 4 3]\n"
     ]
    }
   ],
   "source": [
    "print(np.amax(x, axis=1))"
   ]
  },
  {
   "cell_type": "code",
   "execution_count": 23,
   "id": "0ac8f986-8155-4ecc-b93d-17927638ad01",
   "metadata": {},
   "outputs": [
    {
     "name": "stdout",
     "output_type": "stream",
     "text": [
      "[5. 4. 3.]\n"
     ]
    }
   ],
   "source": [
    "M = np.zeros(3)\n",
    "for i  in range(len(max_indices)):\n",
    "    M[i] = x[i , max_indices[i]]\n",
    "print(M)    "
   ]
  },
  {
   "cell_type": "code",
   "execution_count": 24,
   "id": "3a113d75-7ce1-4422-ad39-98382b4649a3",
   "metadata": {},
   "outputs": [
    {
     "name": "stdout",
     "output_type": "stream",
     "text": [
      "[[5. 4. 3.]]\n"
     ]
    }
   ],
   "source": [
    "if M.ndim == 1:\n",
    "    M = M[None]  # promote to 2-dimensions\n",
    "print(M)    \n"
   ]
  },
  {
   "cell_type": "code",
   "execution_count": 29,
   "id": "4d37eea1-f0a0-4aef-9b13-dae8f4c991a7",
   "metadata": {},
   "outputs": [
    {
     "name": "stdout",
     "output_type": "stream",
     "text": [
      "[[[0.03217479 0.35340906 0.5573612  0.2843961  0.38425623 0.80573951\n",
      "   0.2575449  0.04327162]\n",
      "  [0.00526912 0.66016783 0.37814405 0.08017069 0.96114082 0.92542539\n",
      "   0.90258716 0.27226898]\n",
      "  [0.06636345 0.81656012 0.30173281 0.3599995  0.61733985 0.02761273\n",
      "   0.11360677 0.5667839 ]\n",
      "  [0.15103271 0.29815096 0.62808855 0.8021461  0.24272237 0.24493012\n",
      "   0.0441164  0.82789137]\n",
      "  [0.13802424 0.63805234 0.17497711 0.18944875 0.47295023 0.57842921\n",
      "   0.6571463  0.79752703]]\n",
      "\n",
      " [[0.19451754 0.02042436 0.55405765 0.65800986 0.42596687 0.24733894\n",
      "   0.04512521 0.64737193]\n",
      "  [0.73629663 0.94211805 0.78004864 0.36052426 0.34741446 0.88647904\n",
      "   0.33223554 0.45111738]\n",
      "  [0.25238705 0.08990403 0.68194867 0.91970052 0.43606585 0.43020651\n",
      "   0.08121815 0.03352625]\n",
      "  [0.46872585 0.67376694 0.86943773 0.7098483  0.32298891 0.10732476\n",
      "   0.76706072 0.46560107]\n",
      "  [0.87965281 0.69866317 0.73775221 0.76738569 0.73065525 0.22714235\n",
      "   0.36688259 0.52133864]]\n",
      "\n",
      " [[0.50315266 0.55428301 0.80595579 0.05696571 0.89203817 0.71611915\n",
      "   0.89506508 0.36962522]\n",
      "  [0.77265901 0.68207975 0.80233052 0.18100232 0.49498502 0.50479436\n",
      "   0.00119879 0.31187013]\n",
      "  [0.95862608 0.91704372 0.30404903 0.73079761 0.81418314 0.63211044\n",
      "   0.32771201 0.79539213]\n",
      "  [0.56573723 0.01125183 0.72331945 0.35262151 0.78626449 0.8852244\n",
      "   0.01377551 0.3701237 ]\n",
      "  [0.81711744 0.12896574 0.68652602 0.99268672 0.95362112 0.69174097\n",
      "   0.59789869 0.57910309]]\n",
      "\n",
      " [[0.60359772 0.81402971 0.40934087 0.60893049 0.97293424 0.40025191\n",
      "   0.34619061 0.51282753]\n",
      "  [0.0210638  0.86251508 0.17508675 0.2170529  0.11175616 0.25734691\n",
      "   0.92417662 0.11373663]\n",
      "  [0.58099813 0.84709615 0.33065395 0.13719012 0.00753671 0.96439144\n",
      "   0.46279748 0.31025585]\n",
      "  [0.68850644 0.78887703 0.7637135  0.70280744 0.7405915  0.17957937\n",
      "   0.13221785 0.55855341]\n",
      "  [0.92034464 0.5925949  0.83802899 0.16606209 0.65426558 0.79912875\n",
      "   0.8989349  0.94418854]]\n",
      "\n",
      " [[0.12067789 0.07357583 0.53442024 0.9522099  0.85605477 0.08528941\n",
      "   0.41257513 0.87561789]\n",
      "  [0.89176192 0.51741537 0.2959868  0.35381217 0.13196597 0.29963543\n",
      "   0.08563392 0.99145631]\n",
      "  [0.40684547 0.44966567 0.25309246 0.83434888 0.60546596 0.92634418\n",
      "   0.45995057 0.24942683]\n",
      "  [0.45561109 0.02649958 0.87865089 0.6142503  0.20967998 0.42041423\n",
      "   0.7031415  0.11710561]\n",
      "  [0.66803722 0.3288101  0.47764673 0.78885404 0.84846525 0.93524177\n",
      "   0.32197139 0.48477534]]]\n"
     ]
    }
   ],
   "source": [
    "\n",
    "r = np.random.rand(2, 10, 10) \n",
    "\n",
    "rb = np.reshape(r, (5, 5, 8)) \n",
    "\n",
    "print(rb)\n"
   ]
  },
  {
   "cell_type": "code",
   "execution_count": 66,
   "id": "0652cb82-c7ba-458c-8f25-2c6f4f869bcf",
   "metadata": {},
   "outputs": [
    {
     "name": "stdout",
     "output_type": "stream",
     "text": [
      "[2 3 4]\n",
      "1\n",
      "[[0. 0. 0. 0. 0. 0.]\n",
      " [0. 0. 0. 0. 0. 0.]\n",
      " [0. 0. 0. 0. 0. 0.]]\n"
     ]
    }
   ],
   "source": [
    "X = np.arange(2,5)\n",
    "print(X)\n",
    "print(X.ndim)\n",
    "# m , = X.shape\n",
    "X_poly = np.zeros((X.shape[0], 6))\n",
    "print(X_poly )"
   ]
  },
  {
   "cell_type": "code",
   "execution_count": 67,
   "id": "4e0068d1-fc31-4d7f-9348-b29708899208",
   "metadata": {},
   "outputs": [
    {
     "name": "stdout",
     "output_type": "stream",
     "text": [
      "[[2]\n",
      " [3]\n",
      " [4]]\n",
      "2\n"
     ]
    }
   ],
   "source": [
    "Y = X[:, np.newaxis]\n",
    "print(Y)\n",
    "print(Y.ndim)"
   ]
  },
  {
   "cell_type": "code",
   "execution_count": 64,
   "id": "5e928489-d751-4b74-99b0-e37309a5dc8e",
   "metadata": {},
   "outputs": [
    {
     "name": "stdout",
     "output_type": "stream",
     "text": [
      "[[   2.    4.    8.   16.   32.   64.]\n",
      " [   3.    9.   27.   81.  243.  729.]\n",
      " [   4.   16.   64.  256. 1024. 4096.]]\n"
     ]
    }
   ],
   "source": [
    "for i in range(0, 6):\n",
    "    X_poly[:, i] = Y[:,0] ** (i + 1)\n",
    "np.set_printoptions(precision=4,suppress=True)    \n",
    "print( X_poly)"
   ]
  },
  {
   "cell_type": "code",
   "execution_count": 65,
   "id": "6be23e0a-bb29-4579-808e-0e1679ced05d",
   "metadata": {},
   "outputs": [
    {
     "name": "stdout",
     "output_type": "stream",
     "text": [
      "[[   2.    4.    8.   16.   32.   64.]\n",
      " [   3.    9.   27.   81.  243.  729.]\n",
      " [   4.   16.   64.  256. 1024. 4096.]]\n"
     ]
    }
   ],
   "source": [
    "for i in range(0, 6):\n",
    "    X_poly[:, i] = X ** (i + 1)\n",
    "np.set_printoptions(precision=4,suppress=True)    \n",
    "print( X_poly)"
   ]
  },
  {
   "cell_type": "code",
   "execution_count": 2,
   "id": "bb48afdb-3a66-4036-a73f-f59c00a1c12b",
   "metadata": {},
   "outputs": [
    {
     "name": "stdout",
     "output_type": "stream",
     "text": [
      "2.23606797749979\n"
     ]
    }
   ],
   "source": [
    "import numpy as np\n",
    " \n",
    "# initializing points in\n",
    "# numpy arrays\n",
    "point1 = np.array([1, 1])\n",
    "point2 = np.array([3, 3])\n",
    " \n",
    "# finding sum of squares\n",
    "sum_sq = np.sum(np.square(point1 - point2))\n",
    " \n",
    "# Doing squareroot and\n",
    "# printing Euclidean distance\n",
    "print(np.sqrt(sum_sq))"
   ]
  },
  {
   "cell_type": "code",
   "execution_count": 15,
   "id": "37e1a9dc-c459-45f5-bb81-55139ddeb4d5",
   "metadata": {},
   "outputs": [
    {
     "name": "stdout",
     "output_type": "stream",
     "text": [
      "3.2105972633205395\n",
      "2.8207027789615364\n",
      "2.349946251989891\n"
     ]
    }
   ],
   "source": [
    "point1 = np.array([5.65858312, 4.79996405])\n",
    "initial_centroids = np.array([[3, 3], [6, 2], [8, 5]])\n",
    "for y in range(3):\n",
    "    point2 = initial_centroids[y]              \n",
    "    distance = np.sqrt( np.sum(np.square(point1 - point2)) )\n",
    "    print(distance)\n"
   ]
  },
  {
   "cell_type": "code",
   "execution_count": 27,
   "id": "6ce30a65-0ea6-4278-88e5-2b3ee41eaaaa",
   "metadata": {},
   "outputs": [
    {
     "name": "stdout",
     "output_type": "stream",
     "text": [
      "[[1.981178   4.90792546 6.17041203]\n",
      " [1.86010752 4.80208288 6.1204575 ]\n",
      " [3.21059726 2.82070278 2.34994625]\n",
      " [6.19838689 4.10121933 0.90553851]\n",
      " [3.36517188 1.33813947 2.37385226]]\n",
      "[0 0 2 2 1]\n",
      "[[ 3.74207953  9.1075716 ]\n",
      " [ 6.35257892  3.2908545 ]\n",
      " [14.55858312  9.69996405]]\n",
      "[[2.]\n",
      " [1.]\n",
      " [2.]]\n",
      "[[1.87103976 4.5537858 ]\n",
      " [6.35257892 3.2908545 ]\n",
      " [7.27929156 4.84998203]]\n"
     ]
    }
   ],
   "source": [
    "X = np.array([[1.84207953, 4.6075716 ],[1.9, 4.5 ],\n",
    " [5.65858312, 4.79996405], [ 8.9, 4.9],\n",
    " [6.35257892, 3.2908545 ]] )\n",
    "\n",
    "m, n = X.shape\n",
    "\n",
    "K = 3   # 3 Centroids\n",
    "centroids = np.array([[3, 3], [6, 2], [8, 5]])\n",
    "distances = np.zeros( ( m, K) )\n",
    "for i in range(m):\n",
    "        point1 = X[i]        \n",
    "        for y in range(K):\n",
    "            point2 = centroids[y]\n",
    "            distances[i,y] = np.sqrt( np.sum(np.square(point1 - point2)) )\n",
    "\n",
    "print(distances)\n",
    "idx = np.argmin(distances, axis=1)\n",
    "print(idx)\n",
    "\n",
    "\n",
    "centroids = np.zeros((K, n))\n",
    "counter = np.zeros((K, 1))\n",
    "# ====================== YOUR CODE HERE ======================\n",
    "for i in range(m):\n",
    "    centroids[ idx[i] ] = centroids[ idx[i] ]  + X[i]\n",
    "    counter[  idx[i] ] =  counter[  idx[i] ]  + 1\n",
    "\n",
    "for i in range(K):\n",
    "    if counter[i] == 0:\n",
    "        counter[i] = 1\n",
    "        \n",
    "    \n",
    "print(centroids)\n",
    "print(counter)\n",
    "\n",
    "centroids = centroids / counter\n",
    "\n",
    "print(centroids)\n",
    "\n"
   ]
  },
  {
   "cell_type": "code",
   "execution_count": 32,
   "id": "30fcd5ff-7471-4e4f-81f0-85b69b902bec",
   "metadata": {},
   "outputs": [
    {
     "name": "stdout",
     "output_type": "stream",
     "text": [
      "[4 3 0 2 1]\n"
     ]
    }
   ],
   "source": [
    "randidx = np.random.permutation(X.shape[0])\n",
    "print(randidx)"
   ]
  },
  {
   "cell_type": "code",
   "execution_count": 39,
   "id": "09b8145c-914f-47f7-9f4a-aa8dbba05d55",
   "metadata": {},
   "outputs": [
    {
     "name": "stdout",
     "output_type": "stream",
     "text": [
      "[2 1 0]\n",
      "[[5.65858312 4.79996405]\n",
      " [1.9        4.5       ]\n",
      " [1.84207953 4.6075716 ]]\n"
     ]
    }
   ],
   "source": [
    "rand_indices = np.random.choice(5, 3, replace=False)\n",
    "print(rand_indices)\n",
    "\n",
    "centroids =    X[rand_indices, :]\n",
    "print(centroids)"
   ]
  },
  {
   "cell_type": "code",
   "execution_count": null,
   "id": "dd0feedd-514a-4734-9b0f-0feece091b73",
   "metadata": {},
   "outputs": [],
   "source": []
  }
 ],
 "metadata": {
  "kernelspec": {
   "display_name": "Python 3 (ipykernel)",
   "language": "python",
   "name": "python3"
  },
  "language_info": {
   "codemirror_mode": {
    "name": "ipython",
    "version": 3
   },
   "file_extension": ".py",
   "mimetype": "text/x-python",
   "name": "python",
   "nbconvert_exporter": "python",
   "pygments_lexer": "ipython3",
   "version": "3.9.12"
  }
 },
 "nbformat": 4,
 "nbformat_minor": 5
}
