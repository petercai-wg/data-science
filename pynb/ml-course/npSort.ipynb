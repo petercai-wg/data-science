{
 "cells": [
  {
   "cell_type": "code",
   "execution_count": 9,
   "id": "ebd9ed39-10ca-4ce5-b5a4-20941063dedf",
   "metadata": {},
   "outputs": [
    {
     "name": "stdout",
     "output_type": "stream",
     "text": [
      "[1. 4. 2. 2.]\n"
     ]
    }
   ],
   "source": [
    "import numpy as np\n",
    "X = np.array([ [  1,  5, 3, 2],\n",
    "             [   1 , 4,  1, 2],\n",
    "             [   1 , 3,  2, 2] ])\n",
    "X_mean = np.mean(X , axis = 0)\n",
    "\n",
    "print(X_mean)"
   ]
  },
  {
   "cell_type": "code",
   "execution_count": 10,
   "id": "5d585f5d-3e35-429a-ac35-02c4a55a0a56",
   "metadata": {},
   "outputs": [
    {
     "data": {
      "text/plain": [
       "array([2.75, 2.  , 2.  ])"
      ]
     },
     "execution_count": 10,
     "metadata": {},
     "output_type": "execute_result"
    }
   ],
   "source": [
    "np.mean(X , axis = 1)"
   ]
  },
  {
   "cell_type": "code",
   "execution_count": 13,
   "id": "aa019083-afd6-4ee2-b3dc-466488ccf042",
   "metadata": {},
   "outputs": [
    {
     "name": "stdout",
     "output_type": "stream",
     "text": [
      "[0 3 2 1]\n"
     ]
    }
   ],
   "source": [
    "sorted_index = np.argsort(X[0])[::]\n",
    "print(sorted_index)"
   ]
  },
  {
   "cell_type": "code",
   "execution_count": 14,
   "id": "7d328c7a-c3e8-4ccd-b992-222092c86e03",
   "metadata": {},
   "outputs": [
    {
     "data": {
      "text/plain": [
       "array([[1, 2, 3, 5],\n",
       "       [1, 2, 1, 4],\n",
       "       [1, 2, 2, 3]])"
      ]
     },
     "execution_count": 14,
     "metadata": {},
     "output_type": "execute_result"
    }
   ],
   "source": [
    "X[:,sorted_index]"
   ]
  },
  {
   "cell_type": "code",
   "execution_count": 15,
   "id": "427f9b65-3588-4572-8af6-30fd0418ab0f",
   "metadata": {},
   "outputs": [
    {
     "data": {
      "text/plain": [
       "array([1, 2, 1, 4])"
      ]
     },
     "execution_count": 15,
     "metadata": {},
     "output_type": "execute_result"
    }
   ],
   "source": [
    "X[1][sorted_index]"
   ]
  },
  {
   "cell_type": "code",
   "execution_count": 3,
   "id": "31a5a267-478c-4bcc-b473-d6859c5c9c52",
   "metadata": {},
   "outputs": [
    {
     "name": "stdout",
     "output_type": "stream",
     "text": [
      "[2 5 0 1 4 6 3]\n",
      "[6 3]\n"
     ]
    }
   ],
   "source": [
    "import numpy as np\n",
    "x=np.array([12,43,2,100,54,5,68])\n",
    "print(np.argsort(x))\n",
    "#get two highest value index of array\n",
    "print(np.argsort(x)[-2:])\n"
   ]
  },
  {
   "cell_type": "code",
   "execution_count": 4,
   "id": "8579ee86-c4fc-4f6e-a558-9b66303aeec8",
   "metadata": {},
   "outputs": [
    {
     "name": "stdout",
     "output_type": "stream",
     "text": [
      "[2 5 0 1 4 6 3]\n"
     ]
    }
   ],
   "source": [
    "print(np.argsort(x)[::])"
   ]
  },
  {
   "cell_type": "code",
   "execution_count": 7,
   "id": "34a38885-598a-45cb-8ab9-6e693968c19f",
   "metadata": {},
   "outputs": [
    {
     "name": "stdout",
     "output_type": "stream",
     "text": [
      "[3 6 4 1 0 5 2]\n"
     ]
    }
   ],
   "source": [
    "sorted_index = np.argsort(x)[::-1]\n",
    "print(sorted_index)"
   ]
  },
  {
   "cell_type": "code",
   "execution_count": 8,
   "id": "4c1b95ba-1bd0-4755-b5f3-d45cbd9e1b09",
   "metadata": {},
   "outputs": [
    {
     "name": "stdout",
     "output_type": "stream",
     "text": [
      "[100  68  54  43  12   5   2]\n"
     ]
    }
   ],
   "source": [
    "print( x [sorted_index])"
   ]
  },
  {
   "cell_type": "code",
   "execution_count": 10,
   "id": "7b3cfc6b-756e-477c-a3cd-b43e5de70fe9",
   "metadata": {},
   "outputs": [
    {
     "name": "stdout",
     "output_type": "stream",
     "text": [
      "[  2   5  12  43  54  68 100]\n"
     ]
    }
   ],
   "source": [
    "print( np.sort(x ))"
   ]
  },
  {
   "cell_type": "code",
   "execution_count": 11,
   "id": "40cd7a57-66f3-489e-bdf2-fe49e6d25e13",
   "metadata": {},
   "outputs": [
    {
     "name": "stdout",
     "output_type": "stream",
     "text": [
      "[100  68  54  43  12   5   2]\n"
     ]
    }
   ],
   "source": [
    "print( np.sort(x )[::-1])"
   ]
  },
  {
   "cell_type": "code",
   "execution_count": null,
   "id": "dea2c73c-0d7d-4741-b0ce-490781f467b9",
   "metadata": {},
   "outputs": [],
   "source": []
  }
 ],
 "metadata": {
  "kernelspec": {
   "display_name": "Python 3 (ipykernel)",
   "language": "python",
   "name": "python3"
  },
  "language_info": {
   "codemirror_mode": {
    "name": "ipython",
    "version": 3
   },
   "file_extension": ".py",
   "mimetype": "text/x-python",
   "name": "python",
   "nbconvert_exporter": "python",
   "pygments_lexer": "ipython3",
   "version": "3.9.12"
  }
 },
 "nbformat": 4,
 "nbformat_minor": 5
}
